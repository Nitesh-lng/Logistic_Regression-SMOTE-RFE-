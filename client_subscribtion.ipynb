{
  "nbformat": 4,
  "nbformat_minor": 0,
  "metadata": {
    "colab": {
      "provenance": []
    },
    "kernelspec": {
      "name": "python3",
      "display_name": "Python 3"
    },
    "language_info": {
      "name": "python"
    }
  },
  "cells": [
    {
      "cell_type": "code",
      "execution_count": 3,
      "metadata": {
        "id": "dcBXGI8Aj0qZ"
      },
      "outputs": [],
      "source": [
        "import pandas as pd\n",
        "import numpy as np\n",
        "import matplotlib.pyplot as plt\n",
        "import seaborn as sns\n",
        "sns.set(style=\"white\")\n",
        "sns.set(style=\"whitegrid\", color_codes=True)\n",
        "from sklearn.model_selection import train_test_split\n",
        "from sklearn.linear_model import LogisticRegression , LogisticRegressionCV\n",
        "plt.rc(\"font\", size=10)"
      ]
    },
    {
      "cell_type": "code",
      "source": [
        "df=pd.read_csv('raw.githubusercontent.com_madmashup_targeted-marketing-predictive-engine_master_banking.csv')"
      ],
      "metadata": {
        "id": "IGephDlEkH4D"
      },
      "execution_count": 17,
      "outputs": []
    },
    {
      "cell_type": "code",
      "source": [
        "df.head()"
      ],
      "metadata": {
        "colab": {
          "base_uri": "https://localhost:8080/",
          "height": 299
        },
        "id": "yVlybDYjkJ8A",
        "outputId": "430d8e53-bd6e-4e9c-a15f-11f28b32663b"
      },
      "execution_count": 18,
      "outputs": [
        {
          "output_type": "execute_result",
          "data": {
            "text/plain": [
              "   age          job  marital          education  default housing loan  \\\n",
              "0   44  blue-collar  married           basic.4y  unknown     yes   no   \n",
              "1   53   technician  married            unknown       no      no   no   \n",
              "2   28   management   single  university.degree       no     yes   no   \n",
              "3   39     services  married        high.school       no      no   no   \n",
              "4   55      retired  married           basic.4y       no     yes   no   \n",
              "\n",
              "    contact month day_of_week  ...  campaign  pdays  previous     poutcome  \\\n",
              "0  cellular   aug         thu  ...         1    999         0  nonexistent   \n",
              "1  cellular   nov         fri  ...         1    999         0  nonexistent   \n",
              "2  cellular   jun         thu  ...         3      6         2      success   \n",
              "3  cellular   apr         fri  ...         2    999         0  nonexistent   \n",
              "4  cellular   aug         fri  ...         1      3         1      success   \n",
              "\n",
              "  emp_var_rate  cons_price_idx  cons_conf_idx  euribor3m  nr_employed    y  \n",
              "0          1.4          93.444          -36.1      4.963       5228.1  0.0  \n",
              "1         -0.1          93.200          -42.0      4.021       5195.8  0.0  \n",
              "2         -1.7          94.055          -39.8      0.729       4991.6  1.0  \n",
              "3         -1.8          93.075          -47.1      1.405       5099.1  0.0  \n",
              "4         -2.9          92.201          -31.4      0.869       5076.2  1.0  \n",
              "\n",
              "[5 rows x 21 columns]"
            ],
            "text/html": [
              "\n",
              "  <div id=\"df-0f5dcc74-d6ab-4e5b-b000-17919401f418\">\n",
              "    <div class=\"colab-df-container\">\n",
              "      <div>\n",
              "<style scoped>\n",
              "    .dataframe tbody tr th:only-of-type {\n",
              "        vertical-align: middle;\n",
              "    }\n",
              "\n",
              "    .dataframe tbody tr th {\n",
              "        vertical-align: top;\n",
              "    }\n",
              "\n",
              "    .dataframe thead th {\n",
              "        text-align: right;\n",
              "    }\n",
              "</style>\n",
              "<table border=\"1\" class=\"dataframe\">\n",
              "  <thead>\n",
              "    <tr style=\"text-align: right;\">\n",
              "      <th></th>\n",
              "      <th>age</th>\n",
              "      <th>job</th>\n",
              "      <th>marital</th>\n",
              "      <th>education</th>\n",
              "      <th>default</th>\n",
              "      <th>housing</th>\n",
              "      <th>loan</th>\n",
              "      <th>contact</th>\n",
              "      <th>month</th>\n",
              "      <th>day_of_week</th>\n",
              "      <th>...</th>\n",
              "      <th>campaign</th>\n",
              "      <th>pdays</th>\n",
              "      <th>previous</th>\n",
              "      <th>poutcome</th>\n",
              "      <th>emp_var_rate</th>\n",
              "      <th>cons_price_idx</th>\n",
              "      <th>cons_conf_idx</th>\n",
              "      <th>euribor3m</th>\n",
              "      <th>nr_employed</th>\n",
              "      <th>y</th>\n",
              "    </tr>\n",
              "  </thead>\n",
              "  <tbody>\n",
              "    <tr>\n",
              "      <th>0</th>\n",
              "      <td>44</td>\n",
              "      <td>blue-collar</td>\n",
              "      <td>married</td>\n",
              "      <td>basic.4y</td>\n",
              "      <td>unknown</td>\n",
              "      <td>yes</td>\n",
              "      <td>no</td>\n",
              "      <td>cellular</td>\n",
              "      <td>aug</td>\n",
              "      <td>thu</td>\n",
              "      <td>...</td>\n",
              "      <td>1</td>\n",
              "      <td>999</td>\n",
              "      <td>0</td>\n",
              "      <td>nonexistent</td>\n",
              "      <td>1.4</td>\n",
              "      <td>93.444</td>\n",
              "      <td>-36.1</td>\n",
              "      <td>4.963</td>\n",
              "      <td>5228.1</td>\n",
              "      <td>0.0</td>\n",
              "    </tr>\n",
              "    <tr>\n",
              "      <th>1</th>\n",
              "      <td>53</td>\n",
              "      <td>technician</td>\n",
              "      <td>married</td>\n",
              "      <td>unknown</td>\n",
              "      <td>no</td>\n",
              "      <td>no</td>\n",
              "      <td>no</td>\n",
              "      <td>cellular</td>\n",
              "      <td>nov</td>\n",
              "      <td>fri</td>\n",
              "      <td>...</td>\n",
              "      <td>1</td>\n",
              "      <td>999</td>\n",
              "      <td>0</td>\n",
              "      <td>nonexistent</td>\n",
              "      <td>-0.1</td>\n",
              "      <td>93.200</td>\n",
              "      <td>-42.0</td>\n",
              "      <td>4.021</td>\n",
              "      <td>5195.8</td>\n",
              "      <td>0.0</td>\n",
              "    </tr>\n",
              "    <tr>\n",
              "      <th>2</th>\n",
              "      <td>28</td>\n",
              "      <td>management</td>\n",
              "      <td>single</td>\n",
              "      <td>university.degree</td>\n",
              "      <td>no</td>\n",
              "      <td>yes</td>\n",
              "      <td>no</td>\n",
              "      <td>cellular</td>\n",
              "      <td>jun</td>\n",
              "      <td>thu</td>\n",
              "      <td>...</td>\n",
              "      <td>3</td>\n",
              "      <td>6</td>\n",
              "      <td>2</td>\n",
              "      <td>success</td>\n",
              "      <td>-1.7</td>\n",
              "      <td>94.055</td>\n",
              "      <td>-39.8</td>\n",
              "      <td>0.729</td>\n",
              "      <td>4991.6</td>\n",
              "      <td>1.0</td>\n",
              "    </tr>\n",
              "    <tr>\n",
              "      <th>3</th>\n",
              "      <td>39</td>\n",
              "      <td>services</td>\n",
              "      <td>married</td>\n",
              "      <td>high.school</td>\n",
              "      <td>no</td>\n",
              "      <td>no</td>\n",
              "      <td>no</td>\n",
              "      <td>cellular</td>\n",
              "      <td>apr</td>\n",
              "      <td>fri</td>\n",
              "      <td>...</td>\n",
              "      <td>2</td>\n",
              "      <td>999</td>\n",
              "      <td>0</td>\n",
              "      <td>nonexistent</td>\n",
              "      <td>-1.8</td>\n",
              "      <td>93.075</td>\n",
              "      <td>-47.1</td>\n",
              "      <td>1.405</td>\n",
              "      <td>5099.1</td>\n",
              "      <td>0.0</td>\n",
              "    </tr>\n",
              "    <tr>\n",
              "      <th>4</th>\n",
              "      <td>55</td>\n",
              "      <td>retired</td>\n",
              "      <td>married</td>\n",
              "      <td>basic.4y</td>\n",
              "      <td>no</td>\n",
              "      <td>yes</td>\n",
              "      <td>no</td>\n",
              "      <td>cellular</td>\n",
              "      <td>aug</td>\n",
              "      <td>fri</td>\n",
              "      <td>...</td>\n",
              "      <td>1</td>\n",
              "      <td>3</td>\n",
              "      <td>1</td>\n",
              "      <td>success</td>\n",
              "      <td>-2.9</td>\n",
              "      <td>92.201</td>\n",
              "      <td>-31.4</td>\n",
              "      <td>0.869</td>\n",
              "      <td>5076.2</td>\n",
              "      <td>1.0</td>\n",
              "    </tr>\n",
              "  </tbody>\n",
              "</table>\n",
              "<p>5 rows × 21 columns</p>\n",
              "</div>\n",
              "      <button class=\"colab-df-convert\" onclick=\"convertToInteractive('df-0f5dcc74-d6ab-4e5b-b000-17919401f418')\"\n",
              "              title=\"Convert this dataframe to an interactive table.\"\n",
              "              style=\"display:none;\">\n",
              "        \n",
              "  <svg xmlns=\"http://www.w3.org/2000/svg\" height=\"24px\"viewBox=\"0 0 24 24\"\n",
              "       width=\"24px\">\n",
              "    <path d=\"M0 0h24v24H0V0z\" fill=\"none\"/>\n",
              "    <path d=\"M18.56 5.44l.94 2.06.94-2.06 2.06-.94-2.06-.94-.94-2.06-.94 2.06-2.06.94zm-11 1L8.5 8.5l.94-2.06 2.06-.94-2.06-.94L8.5 2.5l-.94 2.06-2.06.94zm10 10l.94 2.06.94-2.06 2.06-.94-2.06-.94-.94-2.06-.94 2.06-2.06.94z\"/><path d=\"M17.41 7.96l-1.37-1.37c-.4-.4-.92-.59-1.43-.59-.52 0-1.04.2-1.43.59L10.3 9.45l-7.72 7.72c-.78.78-.78 2.05 0 2.83L4 21.41c.39.39.9.59 1.41.59.51 0 1.02-.2 1.41-.59l7.78-7.78 2.81-2.81c.8-.78.8-2.07 0-2.86zM5.41 20L4 18.59l7.72-7.72 1.47 1.35L5.41 20z\"/>\n",
              "  </svg>\n",
              "      </button>\n",
              "      \n",
              "  <style>\n",
              "    .colab-df-container {\n",
              "      display:flex;\n",
              "      flex-wrap:wrap;\n",
              "      gap: 12px;\n",
              "    }\n",
              "\n",
              "    .colab-df-convert {\n",
              "      background-color: #E8F0FE;\n",
              "      border: none;\n",
              "      border-radius: 50%;\n",
              "      cursor: pointer;\n",
              "      display: none;\n",
              "      fill: #1967D2;\n",
              "      height: 32px;\n",
              "      padding: 0 0 0 0;\n",
              "      width: 32px;\n",
              "    }\n",
              "\n",
              "    .colab-df-convert:hover {\n",
              "      background-color: #E2EBFA;\n",
              "      box-shadow: 0px 1px 2px rgba(60, 64, 67, 0.3), 0px 1px 3px 1px rgba(60, 64, 67, 0.15);\n",
              "      fill: #174EA6;\n",
              "    }\n",
              "\n",
              "    [theme=dark] .colab-df-convert {\n",
              "      background-color: #3B4455;\n",
              "      fill: #D2E3FC;\n",
              "    }\n",
              "\n",
              "    [theme=dark] .colab-df-convert:hover {\n",
              "      background-color: #434B5C;\n",
              "      box-shadow: 0px 1px 3px 1px rgba(0, 0, 0, 0.15);\n",
              "      filter: drop-shadow(0px 1px 2px rgba(0, 0, 0, 0.3));\n",
              "      fill: #FFFFFF;\n",
              "    }\n",
              "  </style>\n",
              "\n",
              "      <script>\n",
              "        const buttonEl =\n",
              "          document.querySelector('#df-0f5dcc74-d6ab-4e5b-b000-17919401f418 button.colab-df-convert');\n",
              "        buttonEl.style.display =\n",
              "          google.colab.kernel.accessAllowed ? 'block' : 'none';\n",
              "\n",
              "        async function convertToInteractive(key) {\n",
              "          const element = document.querySelector('#df-0f5dcc74-d6ab-4e5b-b000-17919401f418');\n",
              "          const dataTable =\n",
              "            await google.colab.kernel.invokeFunction('convertToInteractive',\n",
              "                                                     [key], {});\n",
              "          if (!dataTable) return;\n",
              "\n",
              "          const docLinkHtml = 'Like what you see? Visit the ' +\n",
              "            '<a target=\"_blank\" href=https://colab.research.google.com/notebooks/data_table.ipynb>data table notebook</a>'\n",
              "            + ' to learn more about interactive tables.';\n",
              "          element.innerHTML = '';\n",
              "          dataTable['output_type'] = 'display_data';\n",
              "          await google.colab.output.renderOutput(dataTable, element);\n",
              "          const docLink = document.createElement('div');\n",
              "          docLink.innerHTML = docLinkHtml;\n",
              "          element.appendChild(docLink);\n",
              "        }\n",
              "      </script>\n",
              "    </div>\n",
              "  </div>\n",
              "  "
            ]
          },
          "metadata": {},
          "execution_count": 18
        }
      ]
    },
    {
      "cell_type": "code",
      "source": [
        "df.isnull().sum().sum()"
      ],
      "metadata": {
        "colab": {
          "base_uri": "https://localhost:8080/"
        },
        "id": "HVtq4xmdkQ3-",
        "outputId": "7f5fad26-038e-4226-c316-94d9e0ea29f9"
      },
      "execution_count": 19,
      "outputs": [
        {
          "output_type": "execute_result",
          "data": {
            "text/plain": [
              "6"
            ]
          },
          "metadata": {},
          "execution_count": 19
        }
      ]
    },
    {
      "cell_type": "code",
      "source": [
        "df.shape"
      ],
      "metadata": {
        "colab": {
          "base_uri": "https://localhost:8080/"
        },
        "id": "hC77EwaNkMow",
        "outputId": "d2779af9-0e4b-4334-8c92-48a513248009"
      },
      "execution_count": 20,
      "outputs": [
        {
          "output_type": "execute_result",
          "data": {
            "text/plain": [
              "(26535, 21)"
            ]
          },
          "metadata": {},
          "execution_count": 20
        }
      ]
    },
    {
      "cell_type": "code",
      "source": [
        "print(list(df.columns))"
      ],
      "metadata": {
        "colab": {
          "base_uri": "https://localhost:8080/"
        },
        "id": "H4cFv19Gk0TK",
        "outputId": "56c283f7-7ea4-4655-d93c-068678249e8f"
      },
      "execution_count": 21,
      "outputs": [
        {
          "output_type": "stream",
          "name": "stdout",
          "text": [
            "['age', 'job', 'marital', 'education', 'default', 'housing', 'loan', 'contact', 'month', 'day_of_week', 'duration', 'campaign', 'pdays', 'previous', 'poutcome', 'emp_var_rate', 'cons_price_idx', 'cons_conf_idx', 'euribor3m', 'nr_employed', 'y']\n"
          ]
        }
      ]
    },
    {
      "cell_type": "code",
      "source": [
        "df['job'].value_counts()"
      ],
      "metadata": {
        "colab": {
          "base_uri": "https://localhost:8080/"
        },
        "id": "rragRF00lD8I",
        "outputId": "e013a4d1-da8b-4e79-e700-136f1b70255a"
      },
      "execution_count": 22,
      "outputs": [
        {
          "output_type": "execute_result",
          "data": {
            "text/plain": [
              "admin.           6687\n",
              "blue-collar      5978\n",
              "technician       4341\n",
              "services         2510\n",
              "management       1919\n",
              "retired          1102\n",
              "entrepreneur      966\n",
              "self-employed     931\n",
              "housemaid         679\n",
              "unemployed        633\n",
              "student           566\n",
              "unknown           223\n",
              "Name: job, dtype: int64"
            ]
          },
          "metadata": {},
          "execution_count": 22
        }
      ]
    },
    {
      "cell_type": "code",
      "source": [
        "df['job'].unique()"
      ],
      "metadata": {
        "colab": {
          "base_uri": "https://localhost:8080/"
        },
        "id": "87DXwyLflYBJ",
        "outputId": "83ef62de-a85d-41f0-e90e-6282f13e449e"
      },
      "execution_count": 23,
      "outputs": [
        {
          "output_type": "execute_result",
          "data": {
            "text/plain": [
              "array(['blue-collar', 'technician', 'management', 'services', 'retired',\n",
              "       'admin.', 'housemaid', 'unemployed', 'entrepreneur',\n",
              "       'self-employed', 'unknown', 'student'], dtype=object)"
            ]
          },
          "metadata": {},
          "execution_count": 23
        }
      ]
    },
    {
      "cell_type": "code",
      "source": [
        "df['marital'].unique()"
      ],
      "metadata": {
        "colab": {
          "base_uri": "https://localhost:8080/"
        },
        "id": "EtqzAAOLlazG",
        "outputId": "688eb694-94be-4da3-d0a7-a94be01685ee"
      },
      "execution_count": 24,
      "outputs": [
        {
          "output_type": "execute_result",
          "data": {
            "text/plain": [
              "array(['married', 'single', 'divorced', 'unknown'], dtype=object)"
            ]
          },
          "metadata": {},
          "execution_count": 24
        }
      ]
    },
    {
      "cell_type": "code",
      "source": [
        "df['education'].unique()"
      ],
      "metadata": {
        "colab": {
          "base_uri": "https://localhost:8080/"
        },
        "id": "dKhm76Qblqv9",
        "outputId": "1ad1c674-9151-423e-e7c2-9d160dcdf486"
      },
      "execution_count": 25,
      "outputs": [
        {
          "output_type": "execute_result",
          "data": {
            "text/plain": [
              "array(['basic.4y', 'unknown', 'university.degree', 'high.school',\n",
              "       'basic.9y', 'professional.course', 'basic.6y', 'illiterate'],\n",
              "      dtype=object)"
            ]
          },
          "metadata": {},
          "execution_count": 25
        }
      ]
    },
    {
      "cell_type": "markdown",
      "source": [
        "The education column has many categories and we need to reduce the categories for a better modelling"
      ],
      "metadata": {
        "id": "m4ER2eFSmK94"
      }
    },
    {
      "cell_type": "markdown",
      "source": [
        "Let us group “basic.4y”, “basic.9y” and “basic.6y” together and call them “basic”."
      ],
      "metadata": {
        "id": "SWy1SIxLmg4M"
      }
    },
    {
      "cell_type": "code",
      "source": [
        "df['education']=np.where(df['education']=='basic.4y','Basic',df['education'])\n",
        "df['education']=np.where(df['education']=='basic.6y','Basic',df['education'])\n",
        "df['education']=np.where(df['education']=='basic.9y','Basic',df['education'])"
      ],
      "metadata": {
        "id": "Y_m3RhJ6mjDx"
      },
      "execution_count": 26,
      "outputs": []
    },
    {
      "cell_type": "markdown",
      "source": [
        "After grouping, this is the columns:"
      ],
      "metadata": {
        "id": "DNlthqBSn_75"
      }
    },
    {
      "cell_type": "code",
      "source": [
        "df['education'].unique()"
      ],
      "metadata": {
        "colab": {
          "base_uri": "https://localhost:8080/"
        },
        "id": "4TNePyZTmjQG",
        "outputId": "33d74685-bf79-4920-e685-a76b754e295e"
      },
      "execution_count": 27,
      "outputs": [
        {
          "output_type": "execute_result",
          "data": {
            "text/plain": [
              "array(['Basic', 'unknown', 'university.degree', 'high.school',\n",
              "       'professional.course', 'illiterate'], dtype=object)"
            ]
          },
          "metadata": {},
          "execution_count": 27
        }
      ]
    },
    {
      "cell_type": "code",
      "source": [
        "df['default'].unique()"
      ],
      "metadata": {
        "colab": {
          "base_uri": "https://localhost:8080/"
        },
        "id": "sSIpOuvylwwc",
        "outputId": "a8a6f5ef-7b7b-4952-d0d5-28c44480dbec"
      },
      "execution_count": 28,
      "outputs": [
        {
          "output_type": "execute_result",
          "data": {
            "text/plain": [
              "array(['unknown', 'no', 'yes'], dtype=object)"
            ]
          },
          "metadata": {},
          "execution_count": 28
        }
      ]
    },
    {
      "cell_type": "code",
      "source": [
        "df.info()"
      ],
      "metadata": {
        "colab": {
          "base_uri": "https://localhost:8080/"
        },
        "id": "u1Uobum4l1Bf",
        "outputId": "96343440-0875-408f-dcfc-60635d7e0281"
      },
      "execution_count": 29,
      "outputs": [
        {
          "output_type": "stream",
          "name": "stdout",
          "text": [
            "<class 'pandas.core.frame.DataFrame'>\n",
            "RangeIndex: 26535 entries, 0 to 26534\n",
            "Data columns (total 21 columns):\n",
            " #   Column          Non-Null Count  Dtype  \n",
            "---  ------          --------------  -----  \n",
            " 0   age             26535 non-null  int64  \n",
            " 1   job             26535 non-null  object \n",
            " 2   marital         26535 non-null  object \n",
            " 3   education       26535 non-null  object \n",
            " 4   default         26535 non-null  object \n",
            " 5   housing         26535 non-null  object \n",
            " 6   loan            26535 non-null  object \n",
            " 7   contact         26535 non-null  object \n",
            " 8   month           26535 non-null  object \n",
            " 9   day_of_week     26535 non-null  object \n",
            " 10  duration        26535 non-null  int64  \n",
            " 11  campaign        26535 non-null  int64  \n",
            " 12  pdays           26535 non-null  int64  \n",
            " 13  previous        26535 non-null  int64  \n",
            " 14  poutcome        26535 non-null  object \n",
            " 15  emp_var_rate    26534 non-null  float64\n",
            " 16  cons_price_idx  26534 non-null  float64\n",
            " 17  cons_conf_idx   26534 non-null  float64\n",
            " 18  euribor3m       26534 non-null  float64\n",
            " 19  nr_employed     26534 non-null  float64\n",
            " 20  y               26534 non-null  float64\n",
            "dtypes: float64(6), int64(5), object(10)\n",
            "memory usage: 4.3+ MB\n"
          ]
        }
      ]
    },
    {
      "cell_type": "code",
      "source": [
        "df['y'].value_counts()"
      ],
      "metadata": {
        "colab": {
          "base_uri": "https://localhost:8080/"
        },
        "id": "8QMGNlK9l3_D",
        "outputId": "44e1bdd7-d595-41bd-ee4c-695b0324a1e4"
      },
      "execution_count": 30,
      "outputs": [
        {
          "output_type": "execute_result",
          "data": {
            "text/plain": [
              "0.0    23479\n",
              "1.0     3055\n",
              "Name: y, dtype: int64"
            ]
          },
          "metadata": {},
          "execution_count": 30
        }
      ]
    },
    {
      "cell_type": "markdown",
      "source": [
        "y — has the client subscribed a term deposit? (binary: “1”, means “Yes”, “0” means “No”)"
      ],
      "metadata": {
        "id": "OVIfnk3pmUMR"
      }
    },
    {
      "cell_type": "code",
      "source": [],
      "metadata": {
        "id": "VMui0QnLmDmq"
      },
      "execution_count": 30,
      "outputs": []
    },
    {
      "cell_type": "markdown",
      "source": [
        "Data exploration"
      ],
      "metadata": {
        "id": "sWi4B5AgoFXp"
      }
    },
    {
      "cell_type": "code",
      "source": [
        "sns.countplot(x='y',data=df,palette='hls')\n",
        "plt.show()"
      ],
      "metadata": {
        "colab": {
          "base_uri": "https://localhost:8080/",
          "height": 458
        },
        "id": "3DlBIRKOoM-v",
        "outputId": "cd6753ae-4de6-4f6d-e984-313c50d851cb"
      },
      "execution_count": 31,
      "outputs": [
        {
          "output_type": "display_data",
          "data": {
            "text/plain": [
              "<Figure size 640x480 with 1 Axes>"
            ],
            "image/png": "[encoded data removed]"
          },
          "metadata": {}
        }
      ]
    },
    {
      "cell_type": "markdown",
      "source": [
        "Our classes are imbalanced, Before we go ahead to balance the classes, let’s do some more exploration.\n",
        "\n"
      ],
      "metadata": {
        "id": "KY2vc9IYo-TF"
      }
    },
    {
      "cell_type": "code",
      "source": [
        "df.groupby('y').mean()"
      ],
      "metadata": {
        "colab": {
          "base_uri": "https://localhost:8080/",
          "height": 244
        },
        "id": "qJXJZfluoege",
        "outputId": "2f87b7a7-ad29-4a1d-a9f4-614335c4a803"
      },
      "execution_count": 32,
      "outputs": [
        {
          "output_type": "stream",
          "name": "stderr",
          "text": [
            "<ipython-input-32-e1dafff4daf8>:1: FutureWarning: The default value of numeric_only in DataFrameGroupBy.mean is deprecated. In a future version, numeric_only will default to False. Either specify numeric_only or select only columns which should be valid for the function.\n",
            "  df.groupby('y').mean()\n"
          ]
        },
        {
          "output_type": "execute_result",
          "data": {
            "text/plain": [
              "           age    duration  campaign       pdays  previous  emp_var_rate  \\\n",
              "y                                                                          \n",
              "0.0  39.910899  219.470080  2.635887  984.543890  0.133907      0.251480   \n",
              "1.0  40.701146  556.452046  2.031097  790.950573  0.487070     -1.213552   \n",
              "\n",
              "     cons_price_idx  cons_conf_idx  euribor3m  nr_employed  \n",
              "y                                                           \n",
              "0.0       93.606358     -40.573044   3.814634  5176.192334  \n",
              "1.0       93.370053     -39.887496   2.135008  5095.507660  "
            ],
            "text/html": [
              "\n",
              "  <div id=\"df-7a7fc150-8407-446f-a94b-f13634a26a44\">\n",
              "    <div class=\"colab-df-container\">\n",
              "      <div>\n",
              "<style scoped>\n",
              "    .dataframe tbody tr th:only-of-type {\n",
              "        vertical-align: middle;\n",
              "    }\n",
              "\n",
              "    .dataframe tbody tr th {\n",
              "        vertical-align: top;\n",
              "    }\n",
              "\n",
              "    .dataframe thead th {\n",
              "        text-align: right;\n",
              "    }\n",
              "</style>\n",
              "<table border=\"1\" class=\"dataframe\">\n",
              "  <thead>\n",
              "    <tr style=\"text-align: right;\">\n",
              "      <th></th>\n",
              "      <th>age</th>\n",
              "      <th>duration</th>\n",
              "      <th>campaign</th>\n",
              "      <th>pdays</th>\n",
              "      <th>previous</th>\n",
              "      <th>emp_var_rate</th>\n",
              "      <th>cons_price_idx</th>\n",
              "      <th>cons_conf_idx</th>\n",
              "      <th>euribor3m</th>\n",
              "      <th>nr_employed</th>\n",
              "    </tr>\n",
              "    <tr>\n",
              "      <th>y</th>\n",
              "      <th></th>\n",
              "      <th></th>\n",
              "      <th></th>\n",
              "      <th></th>\n",
              "      <th></th>\n",
              "      <th></th>\n",
              "      <th></th>\n",
              "      <th></th>\n",
              "      <th></th>\n",
              "      <th></th>\n",
              "    </tr>\n",
              "  </thead>\n",
              "  <tbody>\n",
              "    <tr>\n",
              "      <th>0.0</th>\n",
              "      <td>39.910899</td>\n",
              "      <td>219.470080</td>\n",
              "      <td>2.635887</td>\n",
              "      <td>984.543890</td>\n",
              "      <td>0.133907</td>\n",
              "      <td>0.251480</td>\n",
              "      <td>93.606358</td>\n",
              "      <td>-40.573044</td>\n",
              "      <td>3.814634</td>\n",
              "      <td>5176.192334</td>\n",
              "    </tr>\n",
              "    <tr>\n",
              "      <th>1.0</th>\n",
              "      <td>40.701146</td>\n",
              "      <td>556.452046</td>\n",
              "      <td>2.031097</td>\n",
              "      <td>790.950573</td>\n",
              "      <td>0.487070</td>\n",
              "      <td>-1.213552</td>\n",
              "      <td>93.370053</td>\n",
              "      <td>-39.887496</td>\n",
              "      <td>2.135008</td>\n",
              "      <td>5095.507660</td>\n",
              "    </tr>\n",
              "  </tbody>\n",
              "</table>\n",
              "</div>\n",
              "      <button class=\"colab-df-convert\" onclick=\"convertToInteractive('df-7a7fc150-8407-446f-a94b-f13634a26a44')\"\n",
              "              title=\"Convert this dataframe to an interactive table.\"\n",
              "              style=\"display:none;\">\n",
              "        \n",
              "  <svg xmlns=\"http://www.w3.org/2000/svg\" height=\"24px\"viewBox=\"0 0 24 24\"\n",
              "       width=\"24px\">\n",
              "    <path d=\"M0 0h24v24H0V0z\" fill=\"none\"/>\n",
              "    <path d=\"M18.56 5.44l.94 2.06.94-2.06 2.06-.94-2.06-.94-.94-2.06-.94 2.06-2.06.94zm-11 1L8.5 8.5l.94-2.06 2.06-.94-2.06-.94L8.5 2.5l-.94 2.06-2.06.94zm10 10l.94 2.06.94-2.06 2.06-.94-2.06-.94-.94-2.06-.94 2.06-2.06.94z\"/><path d=\"M17.41 7.96l-1.37-1.37c-.4-.4-.92-.59-1.43-.59-.52 0-1.04.2-1.43.59L10.3 9.45l-7.72 7.72c-.78.78-.78 2.05 0 2.83L4 21.41c.39.39.9.59 1.41.59.51 0 1.02-.2 1.41-.59l7.78-7.78 2.81-2.81c.8-.78.8-2.07 0-2.86zM5.41 20L4 18.59l7.72-7.72 1.47 1.35L5.41 20z\"/>\n",
              "  </svg>\n",
              "      </button>\n",
              "      \n",
              "  <style>\n",
              "    .colab-df-container {\n",
              "      display:flex;\n",
              "      flex-wrap:wrap;\n",
              "      gap: 12px;\n",
              "    }\n",
              "\n",
              "    .colab-df-convert {\n",
              "      background-color: #E8F0FE;\n",
              "      border: none;\n",
              "      border-radius: 50%;\n",
              "      cursor: pointer;\n",
              "      display: none;\n",
              "      fill: #1967D2;\n",
              "      height: 32px;\n",
              "      padding: 0 0 0 0;\n",
              "      width: 32px;\n",
              "    }\n",
              "\n",
              "    .colab-df-convert:hover {\n",
              "      background-color: #E2EBFA;\n",
              "      box-shadow: 0px 1px 2px rgba(60, 64, 67, 0.3), 0px 1px 3px 1px rgba(60, 64, 67, 0.15);\n",
              "      fill: #174EA6;\n",
              "    }\n",
              "\n",
              "    [theme=dark] .colab-df-convert {\n",
              "      background-color: #3B4455;\n",
              "      fill: #D2E3FC;\n",
              "    }\n",
              "\n",
              "    [theme=dark] .colab-df-convert:hover {\n",
              "      background-color: #434B5C;\n",
              "      box-shadow: 0px 1px 3px 1px rgba(0, 0, 0, 0.15);\n",
              "      filter: drop-shadow(0px 1px 2px rgba(0, 0, 0, 0.3));\n",
              "      fill: #FFFFFF;\n",
              "    }\n",
              "  </style>\n",
              "\n",
              "      <script>\n",
              "        const buttonEl =\n",
              "          document.querySelector('#df-7a7fc150-8407-446f-a94b-f13634a26a44 button.colab-df-convert');\n",
              "        buttonEl.style.display =\n",
              "          google.colab.kernel.accessAllowed ? 'block' : 'none';\n",
              "\n",
              "        async function convertToInteractive(key) {\n",
              "          const element = document.querySelector('#df-7a7fc150-8407-446f-a94b-f13634a26a44');\n",
              "          const dataTable =\n",
              "            await google.colab.kernel.invokeFunction('convertToInteractive',\n",
              "                                                     [key], {});\n",
              "          if (!dataTable) return;\n",
              "\n",
              "          const docLinkHtml = 'Like what you see? Visit the ' +\n",
              "            '<a target=\"_blank\" href=https://colab.research.google.com/notebooks/data_table.ipynb>data table notebook</a>'\n",
              "            + ' to learn more about interactive tables.';\n",
              "          element.innerHTML = '';\n",
              "          dataTable['output_type'] = 'display_data';\n",
              "          await google.colab.output.renderOutput(dataTable, element);\n",
              "          const docLink = document.createElement('div');\n",
              "          docLink.innerHTML = docLinkHtml;\n",
              "          element.appendChild(docLink);\n",
              "        }\n",
              "      </script>\n",
              "    </div>\n",
              "  </div>\n",
              "  "
            ]
          },
          "metadata": {},
          "execution_count": 32
        }
      ]
    },
    {
      "cell_type": "markdown",
      "source": [
        "The customers who purchased the term deposit have a higher average age compared to those who did not make the purchase.\n",
        "\n",
        "\n",
        "Customers who purchased the term deposit tend to have a naturally shorter duration since their last contact, indicating a stronger recollection of the previous call and thus higher likelihood of a successful sale.\n",
        "\n",
        "\n",
        "Remarkably, the number of contacts or calls made during the ongoing campaign is reduced among customers who opted for the term deposit."
      ],
      "metadata": {
        "id": "Wqjil1oVpqbR"
      }
    },
    {
      "cell_type": "markdown",
      "source": [
        "."
      ],
      "metadata": {
        "id": "HPaPfzqCqW6g"
      }
    },
    {
      "cell_type": "markdown",
      "source": [
        "To gain a more comprehensive understanding of our data, I can compute categorical means for additional variables like education and marital status."
      ],
      "metadata": {
        "id": "9BMh1ptuqTwm"
      }
    },
    {
      "cell_type": "code",
      "source": [
        "df.groupby('job').mean()"
      ],
      "metadata": {
        "colab": {
          "base_uri": "https://localhost:8080/",
          "height": 575
        },
        "id": "wlMaOW54pXvH",
        "outputId": "e69d7c5a-5351-4922-ad10-9f50f66ba942"
      },
      "execution_count": 33,
      "outputs": [
        {
          "output_type": "stream",
          "name": "stderr",
          "text": [
            "<ipython-input-33-bb859882ed41>:1: FutureWarning: The default value of numeric_only in DataFrameGroupBy.mean is deprecated. In a future version, numeric_only will default to False. Either specify numeric_only or select only columns which should be valid for the function.\n",
            "  df.groupby('job').mean()\n"
          ]
        },
        {
          "output_type": "execute_result",
          "data": {
            "text/plain": [
              "                     age    duration  campaign       pdays  previous  \\\n",
              "job                                                                    \n",
              "admin.         38.102288  254.599970  2.608644  955.500224  0.190070   \n",
              "blue-collar    39.451656  263.929575  2.554868  985.552191  0.122449   \n",
              "entrepreneur   41.673913  268.369565  2.594203  978.430642  0.138716   \n",
              "housemaid      45.519882  254.412371  2.652430  966.823270  0.110457   \n",
              "management     42.387181  255.921313  2.512246  958.627931  0.195414   \n",
              "retired        62.127949  279.692377  2.419238  901.634301  0.331216   \n",
              "self-employed  39.934479  262.816327  2.664876  976.586466  0.160043   \n",
              "services       37.909163  259.813546  2.600797  980.005578  0.153785   \n",
              "student        25.922261  273.491166  2.090106  837.747350  0.531802   \n",
              "technician     38.556554  248.401981  2.564386  961.271827  0.156416   \n",
              "unemployed     39.857820  253.075829  2.638231  936.230648  0.205371   \n",
              "unknown        45.865471  231.547085  2.641256  936.578475  0.156951   \n",
              "\n",
              "               emp_var_rate  cons_price_idx  cons_conf_idx  euribor3m  \\\n",
              "job                                                                     \n",
              "admin.             0.016704       93.537921     -40.280888   3.548575   \n",
              "blue-collar        0.258782       93.663685     -41.370492   3.780809   \n",
              "entrepreneur       0.169462       93.607479     -41.126812   3.813107   \n",
              "housemaid          0.462150       93.687080     -39.591458   4.040230   \n",
              "management        -0.030328       93.525875     -40.490620   3.582950   \n",
              "retired           -0.723049       93.426040     -38.458439   2.748401   \n",
              "self-employed      0.072932       93.546426     -40.478518   3.681635   \n",
              "services           0.216660       93.651030     -41.199083   3.740602   \n",
              "student           -1.430035       93.340569     -40.334276   1.847788   \n",
              "technician         0.254826       93.554374     -39.918613   3.798568   \n",
              "unemployed        -0.115166       93.584641     -39.911848   3.462299   \n",
              "unknown            0.360987       93.713256     -38.886996   3.965054   \n",
              "\n",
              "               nr_employed         y  \n",
              "job                                   \n",
              "admin.         5163.958576  0.134141  \n",
              "blue-collar    5175.921646  0.069254  \n",
              "entrepreneur   5176.360145  0.097308  \n",
              "housemaid      5181.219293  0.092784  \n",
              "management     5165.397134  0.113080  \n",
              "retired        5120.965517  0.255898  \n",
              "self-employed  5170.399785  0.099893  \n",
              "services       5172.803308  0.086887  \n",
              "student        5083.823675  0.328622  \n",
              "technician     5174.880788  0.110804  \n",
              "unemployed     5155.973144  0.135861  \n",
              "unknown        5174.411659  0.107623  "
            ],
            "text/html": [
              "\n",
              "  <div id=\"df-ad3486d8-5d71-4e69-a721-742ce1cc941e\">\n",
              "    <div class=\"colab-df-container\">\n",
              "      <div>\n",
              "<style scoped>\n",
              "    .dataframe tbody tr th:only-of-type {\n",
              "        vertical-align: middle;\n",
              "    }\n",
              "\n",
              "    .dataframe tbody tr th {\n",
              "        vertical-align: top;\n",
              "    }\n",
              "\n",
              "    .dataframe thead th {\n",
              "        text-align: right;\n",
              "    }\n",
              "</style>\n",
              "<table border=\"1\" class=\"dataframe\">\n",
              "  <thead>\n",
              "    <tr style=\"text-align: right;\">\n",
              "      <th></th>\n",
              "      <th>age</th>\n",
              "      <th>duration</th>\n",
              "      <th>campaign</th>\n",
              "      <th>pdays</th>\n",
              "      <th>previous</th>\n",
              "      <th>emp_var_rate</th>\n",
              "      <th>cons_price_idx</th>\n",
              "      <th>cons_conf_idx</th>\n",
              "      <th>euribor3m</th>\n",
              "      <th>nr_employed</th>\n",
              "      <th>y</th>\n",
              "    </tr>\n",
              "    <tr>\n",
              "      <th>job</th>\n",
              "      <th></th>\n",
              "      <th></th>\n",
              "      <th></th>\n",
              "      <th></th>\n",
              "      <th></th>\n",
              "      <th></th>\n",
              "      <th></th>\n",
              "      <th></th>\n",
              "      <th></th>\n",
              "      <th></th>\n",
              "      <th></th>\n",
              "    </tr>\n",
              "  </thead>\n",
              "  <tbody>\n",
              "    <tr>\n",
              "      <th>admin.</th>\n",
              "      <td>38.102288</td>\n",
              "      <td>254.599970</td>\n",
              "      <td>2.608644</td>\n",
              "      <td>955.500224</td>\n",
              "      <td>0.190070</td>\n",
              "      <td>0.016704</td>\n",
              "      <td>93.537921</td>\n",
              "      <td>-40.280888</td>\n",
              "      <td>3.548575</td>\n",
              "      <td>5163.958576</td>\n",
              "      <td>0.134141</td>\n",
              "    </tr>\n",
              "    <tr>\n",
              "      <th>blue-collar</th>\n",
              "      <td>39.451656</td>\n",
              "      <td>263.929575</td>\n",
              "      <td>2.554868</td>\n",
              "      <td>985.552191</td>\n",
              "      <td>0.122449</td>\n",
              "      <td>0.258782</td>\n",
              "      <td>93.663685</td>\n",
              "      <td>-41.370492</td>\n",
              "      <td>3.780809</td>\n",
              "      <td>5175.921646</td>\n",
              "      <td>0.069254</td>\n",
              "    </tr>\n",
              "    <tr>\n",
              "      <th>entrepreneur</th>\n",
              "      <td>41.673913</td>\n",
              "      <td>268.369565</td>\n",
              "      <td>2.594203</td>\n",
              "      <td>978.430642</td>\n",
              "      <td>0.138716</td>\n",
              "      <td>0.169462</td>\n",
              "      <td>93.607479</td>\n",
              "      <td>-41.126812</td>\n",
              "      <td>3.813107</td>\n",
              "      <td>5176.360145</td>\n",
              "      <td>0.097308</td>\n",
              "    </tr>\n",
              "    <tr>\n",
              "      <th>housemaid</th>\n",
              "      <td>45.519882</td>\n",
              "      <td>254.412371</td>\n",
              "      <td>2.652430</td>\n",
              "      <td>966.823270</td>\n",
              "      <td>0.110457</td>\n",
              "      <td>0.462150</td>\n",
              "      <td>93.687080</td>\n",
              "      <td>-39.591458</td>\n",
              "      <td>4.040230</td>\n",
              "      <td>5181.219293</td>\n",
              "      <td>0.092784</td>\n",
              "    </tr>\n",
              "    <tr>\n",
              "      <th>management</th>\n",
              "      <td>42.387181</td>\n",
              "      <td>255.921313</td>\n",
              "      <td>2.512246</td>\n",
              "      <td>958.627931</td>\n",
              "      <td>0.195414</td>\n",
              "      <td>-0.030328</td>\n",
              "      <td>93.525875</td>\n",
              "      <td>-40.490620</td>\n",
              "      <td>3.582950</td>\n",
              "      <td>5165.397134</td>\n",
              "      <td>0.113080</td>\n",
              "    </tr>\n",
              "    <tr>\n",
              "      <th>retired</th>\n",
              "      <td>62.127949</td>\n",
              "      <td>279.692377</td>\n",
              "      <td>2.419238</td>\n",
              "      <td>901.634301</td>\n",
              "      <td>0.331216</td>\n",
              "      <td>-0.723049</td>\n",
              "      <td>93.426040</td>\n",
              "      <td>-38.458439</td>\n",
              "      <td>2.748401</td>\n",
              "      <td>5120.965517</td>\n",
              "      <td>0.255898</td>\n",
              "    </tr>\n",
              "    <tr>\n",
              "      <th>self-employed</th>\n",
              "      <td>39.934479</td>\n",
              "      <td>262.816327</td>\n",
              "      <td>2.664876</td>\n",
              "      <td>976.586466</td>\n",
              "      <td>0.160043</td>\n",
              "      <td>0.072932</td>\n",
              "      <td>93.546426</td>\n",
              "      <td>-40.478518</td>\n",
              "      <td>3.681635</td>\n",
              "      <td>5170.399785</td>\n",
              "      <td>0.099893</td>\n",
              "    </tr>\n",
              "    <tr>\n",
              "      <th>services</th>\n",
              "      <td>37.909163</td>\n",
              "      <td>259.813546</td>\n",
              "      <td>2.600797</td>\n",
              "      <td>980.005578</td>\n",
              "      <td>0.153785</td>\n",
              "      <td>0.216660</td>\n",
              "      <td>93.651030</td>\n",
              "      <td>-41.199083</td>\n",
              "      <td>3.740602</td>\n",
              "      <td>5172.803308</td>\n",
              "      <td>0.086887</td>\n",
              "    </tr>\n",
              "    <tr>\n",
              "      <th>student</th>\n",
              "      <td>25.922261</td>\n",
              "      <td>273.491166</td>\n",
              "      <td>2.090106</td>\n",
              "      <td>837.747350</td>\n",
              "      <td>0.531802</td>\n",
              "      <td>-1.430035</td>\n",
              "      <td>93.340569</td>\n",
              "      <td>-40.334276</td>\n",
              "      <td>1.847788</td>\n",
              "      <td>5083.823675</td>\n",
              "      <td>0.328622</td>\n",
              "    </tr>\n",
              "    <tr>\n",
              "      <th>technician</th>\n",
              "      <td>38.556554</td>\n",
              "      <td>248.401981</td>\n",
              "      <td>2.564386</td>\n",
              "      <td>961.271827</td>\n",
              "      <td>0.156416</td>\n",
              "      <td>0.254826</td>\n",
              "      <td>93.554374</td>\n",
              "      <td>-39.918613</td>\n",
              "      <td>3.798568</td>\n",
              "      <td>5174.880788</td>\n",
              "      <td>0.110804</td>\n",
              "    </tr>\n",
              "    <tr>\n",
              "      <th>unemployed</th>\n",
              "      <td>39.857820</td>\n",
              "      <td>253.075829</td>\n",
              "      <td>2.638231</td>\n",
              "      <td>936.230648</td>\n",
              "      <td>0.205371</td>\n",
              "      <td>-0.115166</td>\n",
              "      <td>93.584641</td>\n",
              "      <td>-39.911848</td>\n",
              "      <td>3.462299</td>\n",
              "      <td>5155.973144</td>\n",
              "      <td>0.135861</td>\n",
              "    </tr>\n",
              "    <tr>\n",
              "      <th>unknown</th>\n",
              "      <td>45.865471</td>\n",
              "      <td>231.547085</td>\n",
              "      <td>2.641256</td>\n",
              "      <td>936.578475</td>\n",
              "      <td>0.156951</td>\n",
              "      <td>0.360987</td>\n",
              "      <td>93.713256</td>\n",
              "      <td>-38.886996</td>\n",
              "      <td>3.965054</td>\n",
              "      <td>5174.411659</td>\n",
              "      <td>0.107623</td>\n",
              "    </tr>\n",
              "  </tbody>\n",
              "</table>\n",
              "</div>\n",
              "      <button class=\"colab-df-convert\" onclick=\"convertToInteractive('df-ad3486d8-5d71-4e69-a721-742ce1cc941e')\"\n",
              "              title=\"Convert this dataframe to an interactive table.\"\n",
              "              style=\"display:none;\">\n",
              "        \n",
              "  <svg xmlns=\"http://www.w3.org/2000/svg\" height=\"24px\"viewBox=\"0 0 24 24\"\n",
              "       width=\"24px\">\n",
              "    <path d=\"M0 0h24v24H0V0z\" fill=\"none\"/>\n",
              "    <path d=\"M18.56 5.44l.94 2.06.94-2.06 2.06-.94-2.06-.94-.94-2.06-.94 2.06-2.06.94zm-11 1L8.5 8.5l.94-2.06 2.06-.94-2.06-.94L8.5 2.5l-.94 2.06-2.06.94zm10 10l.94 2.06.94-2.06 2.06-.94-2.06-.94-.94-2.06-.94 2.06-2.06.94z\"/><path d=\"M17.41 7.96l-1.37-1.37c-.4-.4-.92-.59-1.43-.59-.52 0-1.04.2-1.43.59L10.3 9.45l-7.72 7.72c-.78.78-.78 2.05 0 2.83L4 21.41c.39.39.9.59 1.41.59.51 0 1.02-.2 1.41-.59l7.78-7.78 2.81-2.81c.8-.78.8-2.07 0-2.86zM5.41 20L4 18.59l7.72-7.72 1.47 1.35L5.41 20z\"/>\n",
              "  </svg>\n",
              "      </button>\n",
              "      \n",
              "  <style>\n",
              "    .colab-df-container {\n",
              "      display:flex;\n",
              "      flex-wrap:wrap;\n",
              "      gap: 12px;\n",
              "    }\n",
              "\n",
              "    .colab-df-convert {\n",
              "      background-color: #E8F0FE;\n",
              "      border: none;\n",
              "      border-radius: 50%;\n",
              "      cursor: pointer;\n",
              "      display: none;\n",
              "      fill: #1967D2;\n",
              "      height: 32px;\n",
              "      padding: 0 0 0 0;\n",
              "      width: 32px;\n",
              "    }\n",
              "\n",
              "    .colab-df-convert:hover {\n",
              "      background-color: #E2EBFA;\n",
              "      box-shadow: 0px 1px 2px rgba(60, 64, 67, 0.3), 0px 1px 3px 1px rgba(60, 64, 67, 0.15);\n",
              "      fill: #174EA6;\n",
              "    }\n",
              "\n",
              "    [theme=dark] .colab-df-convert {\n",
              "      background-color: #3B4455;\n",
              "      fill: #D2E3FC;\n",
              "    }\n",
              "\n",
              "    [theme=dark] .colab-df-convert:hover {\n",
              "      background-color: #434B5C;\n",
              "      box-shadow: 0px 1px 3px 1px rgba(0, 0, 0, 0.15);\n",
              "      filter: drop-shadow(0px 1px 2px rgba(0, 0, 0, 0.3));\n",
              "      fill: #FFFFFF;\n",
              "    }\n",
              "  </style>\n",
              "\n",
              "      <script>\n",
              "        const buttonEl =\n",
              "          document.querySelector('#df-ad3486d8-5d71-4e69-a721-742ce1cc941e button.colab-df-convert');\n",
              "        buttonEl.style.display =\n",
              "          google.colab.kernel.accessAllowed ? 'block' : 'none';\n",
              "\n",
              "        async function convertToInteractive(key) {\n",
              "          const element = document.querySelector('#df-ad3486d8-5d71-4e69-a721-742ce1cc941e');\n",
              "          const dataTable =\n",
              "            await google.colab.kernel.invokeFunction('convertToInteractive',\n",
              "                                                     [key], {});\n",
              "          if (!dataTable) return;\n",
              "\n",
              "          const docLinkHtml = 'Like what you see? Visit the ' +\n",
              "            '<a target=\"_blank\" href=https://colab.research.google.com/notebooks/data_table.ipynb>data table notebook</a>'\n",
              "            + ' to learn more about interactive tables.';\n",
              "          element.innerHTML = '';\n",
              "          dataTable['output_type'] = 'display_data';\n",
              "          await google.colab.output.renderOutput(dataTable, element);\n",
              "          const docLink = document.createElement('div');\n",
              "          docLink.innerHTML = docLinkHtml;\n",
              "          element.appendChild(docLink);\n",
              "        }\n",
              "      </script>\n",
              "    </div>\n",
              "  </div>\n",
              "  "
            ]
          },
          "metadata": {},
          "execution_count": 33
        }
      ]
    },
    {
      "cell_type": "code",
      "source": [
        "df.groupby('marital').mean()"
      ],
      "metadata": {
        "colab": {
          "base_uri": "https://localhost:8080/",
          "height": 307
        },
        "id": "P4Q0U0Yeqh0w",
        "outputId": "2ac613c2-fe10-4451-8a53-8b0bf8e5c9c7"
      },
      "execution_count": 34,
      "outputs": [
        {
          "output_type": "stream",
          "name": "stderr",
          "text": [
            "<ipython-input-34-aa67e1a5c2fa>:1: FutureWarning: The default value of numeric_only in DataFrameGroupBy.mean is deprecated. In a future version, numeric_only will default to False. Either specify numeric_only or select only columns which should be valid for the function.\n",
            "  df.groupby('marital').mean()\n"
          ]
        },
        {
          "output_type": "execute_result",
          "data": {
            "text/plain": [
              "                age    duration  campaign       pdays  previous  emp_var_rate  \\\n",
              "marital                                                                         \n",
              "divorced  44.789350  252.319178  2.578362  967.867206  0.175261      0.142602   \n",
              "married   42.281065  257.927198  2.581544  967.919669  0.156057      0.188768   \n",
              "single    33.172687  261.211763  2.523029  947.949644  0.213509     -0.166873   \n",
              "unknown   40.240000  286.760000  3.340000  939.580000  0.280000     -0.336000   \n",
              "\n",
              "          cons_price_idx  cons_conf_idx  euribor3m  nr_employed         y  \n",
              "marital                                                                    \n",
              "divorced       93.602852     -40.773441   3.692073  5169.991304  0.103134  \n",
              "married        93.602131     -40.253304   3.750339  5171.939371  0.103547  \n",
              "single         93.520881     -40.898738   3.317179  5154.886263  0.144756  \n",
              "unknown        93.465700     -41.050000   3.217640  5154.556000  0.140000  "
            ],
            "text/html": [
              "\n",
              "  <div id=\"df-7d8da9a9-33a3-4e9b-9193-5aad538db65e\">\n",
              "    <div class=\"colab-df-container\">\n",
              "      <div>\n",
              "<style scoped>\n",
              "    .dataframe tbody tr th:only-of-type {\n",
              "        vertical-align: middle;\n",
              "    }\n",
              "\n",
              "    .dataframe tbody tr th {\n",
              "        vertical-align: top;\n",
              "    }\n",
              "\n",
              "    .dataframe thead th {\n",
              "        text-align: right;\n",
              "    }\n",
              "</style>\n",
              "<table border=\"1\" class=\"dataframe\">\n",
              "  <thead>\n",
              "    <tr style=\"text-align: right;\">\n",
              "      <th></th>\n",
              "      <th>age</th>\n",
              "      <th>duration</th>\n",
              "      <th>campaign</th>\n",
              "      <th>pdays</th>\n",
              "      <th>previous</th>\n",
              "      <th>emp_var_rate</th>\n",
              "      <th>cons_price_idx</th>\n",
              "      <th>cons_conf_idx</th>\n",
              "      <th>euribor3m</th>\n",
              "      <th>nr_employed</th>\n",
              "      <th>y</th>\n",
              "    </tr>\n",
              "    <tr>\n",
              "      <th>marital</th>\n",
              "      <th></th>\n",
              "      <th></th>\n",
              "      <th></th>\n",
              "      <th></th>\n",
              "      <th></th>\n",
              "      <th></th>\n",
              "      <th></th>\n",
              "      <th></th>\n",
              "      <th></th>\n",
              "      <th></th>\n",
              "      <th></th>\n",
              "    </tr>\n",
              "  </thead>\n",
              "  <tbody>\n",
              "    <tr>\n",
              "      <th>divorced</th>\n",
              "      <td>44.789350</td>\n",
              "      <td>252.319178</td>\n",
              "      <td>2.578362</td>\n",
              "      <td>967.867206</td>\n",
              "      <td>0.175261</td>\n",
              "      <td>0.142602</td>\n",
              "      <td>93.602852</td>\n",
              "      <td>-40.773441</td>\n",
              "      <td>3.692073</td>\n",
              "      <td>5169.991304</td>\n",
              "      <td>0.103134</td>\n",
              "    </tr>\n",
              "    <tr>\n",
              "      <th>married</th>\n",
              "      <td>42.281065</td>\n",
              "      <td>257.927198</td>\n",
              "      <td>2.581544</td>\n",
              "      <td>967.919669</td>\n",
              "      <td>0.156057</td>\n",
              "      <td>0.188768</td>\n",
              "      <td>93.602131</td>\n",
              "      <td>-40.253304</td>\n",
              "      <td>3.750339</td>\n",
              "      <td>5171.939371</td>\n",
              "      <td>0.103547</td>\n",
              "    </tr>\n",
              "    <tr>\n",
              "      <th>single</th>\n",
              "      <td>33.172687</td>\n",
              "      <td>261.211763</td>\n",
              "      <td>2.523029</td>\n",
              "      <td>947.949644</td>\n",
              "      <td>0.213509</td>\n",
              "      <td>-0.166873</td>\n",
              "      <td>93.520881</td>\n",
              "      <td>-40.898738</td>\n",
              "      <td>3.317179</td>\n",
              "      <td>5154.886263</td>\n",
              "      <td>0.144756</td>\n",
              "    </tr>\n",
              "    <tr>\n",
              "      <th>unknown</th>\n",
              "      <td>40.240000</td>\n",
              "      <td>286.760000</td>\n",
              "      <td>3.340000</td>\n",
              "      <td>939.580000</td>\n",
              "      <td>0.280000</td>\n",
              "      <td>-0.336000</td>\n",
              "      <td>93.465700</td>\n",
              "      <td>-41.050000</td>\n",
              "      <td>3.217640</td>\n",
              "      <td>5154.556000</td>\n",
              "      <td>0.140000</td>\n",
              "    </tr>\n",
              "  </tbody>\n",
              "</table>\n",
              "</div>\n",
              "      <button class=\"colab-df-convert\" onclick=\"convertToInteractive('df-7d8da9a9-33a3-4e9b-9193-5aad538db65e')\"\n",
              "              title=\"Convert this dataframe to an interactive table.\"\n",
              "              style=\"display:none;\">\n",
              "        \n",
              "  <svg xmlns=\"http://www.w3.org/2000/svg\" height=\"24px\"viewBox=\"0 0 24 24\"\n",
              "       width=\"24px\">\n",
              "    <path d=\"M0 0h24v24H0V0z\" fill=\"none\"/>\n",
              "    <path d=\"M18.56 5.44l.94 2.06.94-2.06 2.06-.94-2.06-.94-.94-2.06-.94 2.06-2.06.94zm-11 1L8.5 8.5l.94-2.06 2.06-.94-2.06-.94L8.5 2.5l-.94 2.06-2.06.94zm10 10l.94 2.06.94-2.06 2.06-.94-2.06-.94-.94-2.06-.94 2.06-2.06.94z\"/><path d=\"M17.41 7.96l-1.37-1.37c-.4-.4-.92-.59-1.43-.59-.52 0-1.04.2-1.43.59L10.3 9.45l-7.72 7.72c-.78.78-.78 2.05 0 2.83L4 21.41c.39.39.9.59 1.41.59.51 0 1.02-.2 1.41-.59l7.78-7.78 2.81-2.81c.8-.78.8-2.07 0-2.86zM5.41 20L4 18.59l7.72-7.72 1.47 1.35L5.41 20z\"/>\n",
              "  </svg>\n",
              "      </button>\n",
              "      \n",
              "  <style>\n",
              "    .colab-df-container {\n",
              "      display:flex;\n",
              "      flex-wrap:wrap;\n",
              "      gap: 12px;\n",
              "    }\n",
              "\n",
              "    .colab-df-convert {\n",
              "      background-color: #E8F0FE;\n",
              "      border: none;\n",
              "      border-radius: 50%;\n",
              "      cursor: pointer;\n",
              "      display: none;\n",
              "      fill: #1967D2;\n",
              "      height: 32px;\n",
              "      padding: 0 0 0 0;\n",
              "      width: 32px;\n",
              "    }\n",
              "\n",
              "    .colab-df-convert:hover {\n",
              "      background-color: #E2EBFA;\n",
              "      box-shadow: 0px 1px 2px rgba(60, 64, 67, 0.3), 0px 1px 3px 1px rgba(60, 64, 67, 0.15);\n",
              "      fill: #174EA6;\n",
              "    }\n",
              "\n",
              "    [theme=dark] .colab-df-convert {\n",
              "      background-color: #3B4455;\n",
              "      fill: #D2E3FC;\n",
              "    }\n",
              "\n",
              "    [theme=dark] .colab-df-convert:hover {\n",
              "      background-color: #434B5C;\n",
              "      box-shadow: 0px 1px 3px 1px rgba(0, 0, 0, 0.15);\n",
              "      filter: drop-shadow(0px 1px 2px rgba(0, 0, 0, 0.3));\n",
              "      fill: #FFFFFF;\n",
              "    }\n",
              "  </style>\n",
              "\n",
              "      <script>\n",
              "        const buttonEl =\n",
              "          document.querySelector('#df-7d8da9a9-33a3-4e9b-9193-5aad538db65e button.colab-df-convert');\n",
              "        buttonEl.style.display =\n",
              "          google.colab.kernel.accessAllowed ? 'block' : 'none';\n",
              "\n",
              "        async function convertToInteractive(key) {\n",
              "          const element = document.querySelector('#df-7d8da9a9-33a3-4e9b-9193-5aad538db65e');\n",
              "          const dataTable =\n",
              "            await google.colab.kernel.invokeFunction('convertToInteractive',\n",
              "                                                     [key], {});\n",
              "          if (!dataTable) return;\n",
              "\n",
              "          const docLinkHtml = 'Like what you see? Visit the ' +\n",
              "            '<a target=\"_blank\" href=https://colab.research.google.com/notebooks/data_table.ipynb>data table notebook</a>'\n",
              "            + ' to learn more about interactive tables.';\n",
              "          element.innerHTML = '';\n",
              "          dataTable['output_type'] = 'display_data';\n",
              "          await google.colab.output.renderOutput(dataTable, element);\n",
              "          const docLink = document.createElement('div');\n",
              "          docLink.innerHTML = docLinkHtml;\n",
              "          element.appendChild(docLink);\n",
              "        }\n",
              "      </script>\n",
              "    </div>\n",
              "  </div>\n",
              "  "
            ]
          },
          "metadata": {},
          "execution_count": 34
        }
      ]
    },
    {
      "cell_type": "code",
      "source": [
        "df.groupby('education').mean()"
      ],
      "metadata": {
        "colab": {
          "base_uri": "https://localhost:8080/",
          "height": 370
        },
        "id": "5r6EO07cqrcX",
        "outputId": "4885041b-110a-40bc-8c2e-e75040f8dba8"
      },
      "execution_count": 35,
      "outputs": [
        {
          "output_type": "stream",
          "name": "stderr",
          "text": [
            "<ipython-input-35-f8d0642ca27f>:1: FutureWarning: The default value of numeric_only in DataFrameGroupBy.mean is deprecated. In a future version, numeric_only will default to False. Either specify numeric_only or select only columns which should be valid for the function.\n",
            "  df.groupby('education').mean()\n"
          ]
        },
        {
          "output_type": "execute_result",
          "data": {
            "text/plain": [
              "                           age    duration  campaign       pdays  previous  \\\n",
              "education                                                                    \n",
              "Basic                42.131010  262.219627  2.555803  976.299716  0.141762   \n",
              "high.school          37.965137  263.197500  2.576385  964.886203  0.184345   \n",
              "illiterate           47.083333  247.583333  2.416667  999.000000  0.083333   \n",
              "professional.course  40.057278  255.692058  2.596988  959.743136  0.160319   \n",
              "university.degree    38.895226  250.772120  2.555824  950.056015  0.198218   \n",
              "unknown              43.218215  263.681695  2.567178  939.059513  0.237151   \n",
              "\n",
              "                     emp_var_rate  cons_price_idx  cons_conf_idx  euribor3m  \\\n",
              "education                                                                     \n",
              "Basic                    0.194661       93.644792     -40.893141   3.736538   \n",
              "high.school              0.049507       93.592977     -40.895576   3.571425   \n",
              "illiterate               0.225000       93.433583     -42.450000   3.839083   \n",
              "professional.course      0.179097       93.571147     -40.143608   3.714380   \n",
              "university.degree       -0.043806       93.492923     -39.988224   3.510297   \n",
              "unknown                  0.050406       93.661212     -40.014427   3.552376   \n",
              "\n",
              "                     nr_employed         y  \n",
              "education                                   \n",
              "Basic                5172.081016  0.087134  \n",
              "high.school          5165.295493  0.112664  \n",
              "illiterate           5187.775000  0.166667  \n",
              "professional.course  5170.538028  0.118984  \n",
              "university.degree    5162.305716  0.140038  \n",
              "unknown              5159.165555  0.144274  "
            ],
            "text/html": [
              "\n",
              "  <div id=\"df-b97c8905-957e-4c36-a55a-aaf5cc6aa246\">\n",
              "    <div class=\"colab-df-container\">\n",
              "      <div>\n",
              "<style scoped>\n",
              "    .dataframe tbody tr th:only-of-type {\n",
              "        vertical-align: middle;\n",
              "    }\n",
              "\n",
              "    .dataframe tbody tr th {\n",
              "        vertical-align: top;\n",
              "    }\n",
              "\n",
              "    .dataframe thead th {\n",
              "        text-align: right;\n",
              "    }\n",
              "</style>\n",
              "<table border=\"1\" class=\"dataframe\">\n",
              "  <thead>\n",
              "    <tr style=\"text-align: right;\">\n",
              "      <th></th>\n",
              "      <th>age</th>\n",
              "      <th>duration</th>\n",
              "      <th>campaign</th>\n",
              "      <th>pdays</th>\n",
              "      <th>previous</th>\n",
              "      <th>emp_var_rate</th>\n",
              "      <th>cons_price_idx</th>\n",
              "      <th>cons_conf_idx</th>\n",
              "      <th>euribor3m</th>\n",
              "      <th>nr_employed</th>\n",
              "      <th>y</th>\n",
              "    </tr>\n",
              "    <tr>\n",
              "      <th>education</th>\n",
              "      <th></th>\n",
              "      <th></th>\n",
              "      <th></th>\n",
              "      <th></th>\n",
              "      <th></th>\n",
              "      <th></th>\n",
              "      <th></th>\n",
              "      <th></th>\n",
              "      <th></th>\n",
              "      <th></th>\n",
              "      <th></th>\n",
              "    </tr>\n",
              "  </thead>\n",
              "  <tbody>\n",
              "    <tr>\n",
              "      <th>Basic</th>\n",
              "      <td>42.131010</td>\n",
              "      <td>262.219627</td>\n",
              "      <td>2.555803</td>\n",
              "      <td>976.299716</td>\n",
              "      <td>0.141762</td>\n",
              "      <td>0.194661</td>\n",
              "      <td>93.644792</td>\n",
              "      <td>-40.893141</td>\n",
              "      <td>3.736538</td>\n",
              "      <td>5172.081016</td>\n",
              "      <td>0.087134</td>\n",
              "    </tr>\n",
              "    <tr>\n",
              "      <th>high.school</th>\n",
              "      <td>37.965137</td>\n",
              "      <td>263.197500</td>\n",
              "      <td>2.576385</td>\n",
              "      <td>964.886203</td>\n",
              "      <td>0.184345</td>\n",
              "      <td>0.049507</td>\n",
              "      <td>93.592977</td>\n",
              "      <td>-40.895576</td>\n",
              "      <td>3.571425</td>\n",
              "      <td>5165.295493</td>\n",
              "      <td>0.112664</td>\n",
              "    </tr>\n",
              "    <tr>\n",
              "      <th>illiterate</th>\n",
              "      <td>47.083333</td>\n",
              "      <td>247.583333</td>\n",
              "      <td>2.416667</td>\n",
              "      <td>999.000000</td>\n",
              "      <td>0.083333</td>\n",
              "      <td>0.225000</td>\n",
              "      <td>93.433583</td>\n",
              "      <td>-42.450000</td>\n",
              "      <td>3.839083</td>\n",
              "      <td>5187.775000</td>\n",
              "      <td>0.166667</td>\n",
              "    </tr>\n",
              "    <tr>\n",
              "      <th>professional.course</th>\n",
              "      <td>40.057278</td>\n",
              "      <td>255.692058</td>\n",
              "      <td>2.596988</td>\n",
              "      <td>959.743136</td>\n",
              "      <td>0.160319</td>\n",
              "      <td>0.179097</td>\n",
              "      <td>93.571147</td>\n",
              "      <td>-40.143608</td>\n",
              "      <td>3.714380</td>\n",
              "      <td>5170.538028</td>\n",
              "      <td>0.118984</td>\n",
              "    </tr>\n",
              "    <tr>\n",
              "      <th>university.degree</th>\n",
              "      <td>38.895226</td>\n",
              "      <td>250.772120</td>\n",
              "      <td>2.555824</td>\n",
              "      <td>950.056015</td>\n",
              "      <td>0.198218</td>\n",
              "      <td>-0.043806</td>\n",
              "      <td>93.492923</td>\n",
              "      <td>-39.988224</td>\n",
              "      <td>3.510297</td>\n",
              "      <td>5162.305716</td>\n",
              "      <td>0.140038</td>\n",
              "    </tr>\n",
              "    <tr>\n",
              "      <th>unknown</th>\n",
              "      <td>43.218215</td>\n",
              "      <td>263.681695</td>\n",
              "      <td>2.567178</td>\n",
              "      <td>939.059513</td>\n",
              "      <td>0.237151</td>\n",
              "      <td>0.050406</td>\n",
              "      <td>93.661212</td>\n",
              "      <td>-40.014427</td>\n",
              "      <td>3.552376</td>\n",
              "      <td>5159.165555</td>\n",
              "      <td>0.144274</td>\n",
              "    </tr>\n",
              "  </tbody>\n",
              "</table>\n",
              "</div>\n",
              "      <button class=\"colab-df-convert\" onclick=\"convertToInteractive('df-b97c8905-957e-4c36-a55a-aaf5cc6aa246')\"\n",
              "              title=\"Convert this dataframe to an interactive table.\"\n",
              "              style=\"display:none;\">\n",
              "        \n",
              "  <svg xmlns=\"http://www.w3.org/2000/svg\" height=\"24px\"viewBox=\"0 0 24 24\"\n",
              "       width=\"24px\">\n",
              "    <path d=\"M0 0h24v24H0V0z\" fill=\"none\"/>\n",
              "    <path d=\"M18.56 5.44l.94 2.06.94-2.06 2.06-.94-2.06-.94-.94-2.06-.94 2.06-2.06.94zm-11 1L8.5 8.5l.94-2.06 2.06-.94-2.06-.94L8.5 2.5l-.94 2.06-2.06.94zm10 10l.94 2.06.94-2.06 2.06-.94-2.06-.94-.94-2.06-.94 2.06-2.06.94z\"/><path d=\"M17.41 7.96l-1.37-1.37c-.4-.4-.92-.59-1.43-.59-.52 0-1.04.2-1.43.59L10.3 9.45l-7.72 7.72c-.78.78-.78 2.05 0 2.83L4 21.41c.39.39.9.59 1.41.59.51 0 1.02-.2 1.41-.59l7.78-7.78 2.81-2.81c.8-.78.8-2.07 0-2.86zM5.41 20L4 18.59l7.72-7.72 1.47 1.35L5.41 20z\"/>\n",
              "  </svg>\n",
              "      </button>\n",
              "      \n",
              "  <style>\n",
              "    .colab-df-container {\n",
              "      display:flex;\n",
              "      flex-wrap:wrap;\n",
              "      gap: 12px;\n",
              "    }\n",
              "\n",
              "    .colab-df-convert {\n",
              "      background-color: #E8F0FE;\n",
              "      border: none;\n",
              "      border-radius: 50%;\n",
              "      cursor: pointer;\n",
              "      display: none;\n",
              "      fill: #1967D2;\n",
              "      height: 32px;\n",
              "      padding: 0 0 0 0;\n",
              "      width: 32px;\n",
              "    }\n",
              "\n",
              "    .colab-df-convert:hover {\n",
              "      background-color: #E2EBFA;\n",
              "      box-shadow: 0px 1px 2px rgba(60, 64, 67, 0.3), 0px 1px 3px 1px rgba(60, 64, 67, 0.15);\n",
              "      fill: #174EA6;\n",
              "    }\n",
              "\n",
              "    [theme=dark] .colab-df-convert {\n",
              "      background-color: #3B4455;\n",
              "      fill: #D2E3FC;\n",
              "    }\n",
              "\n",
              "    [theme=dark] .colab-df-convert:hover {\n",
              "      background-color: #434B5C;\n",
              "      box-shadow: 0px 1px 3px 1px rgba(0, 0, 0, 0.15);\n",
              "      filter: drop-shadow(0px 1px 2px rgba(0, 0, 0, 0.3));\n",
              "      fill: #FFFFFF;\n",
              "    }\n",
              "  </style>\n",
              "\n",
              "      <script>\n",
              "        const buttonEl =\n",
              "          document.querySelector('#df-b97c8905-957e-4c36-a55a-aaf5cc6aa246 button.colab-df-convert');\n",
              "        buttonEl.style.display =\n",
              "          google.colab.kernel.accessAllowed ? 'block' : 'none';\n",
              "\n",
              "        async function convertToInteractive(key) {\n",
              "          const element = document.querySelector('#df-b97c8905-957e-4c36-a55a-aaf5cc6aa246');\n",
              "          const dataTable =\n",
              "            await google.colab.kernel.invokeFunction('convertToInteractive',\n",
              "                                                     [key], {});\n",
              "          if (!dataTable) return;\n",
              "\n",
              "          const docLinkHtml = 'Like what you see? Visit the ' +\n",
              "            '<a target=\"_blank\" href=https://colab.research.google.com/notebooks/data_table.ipynb>data table notebook</a>'\n",
              "            + ' to learn more about interactive tables.';\n",
              "          element.innerHTML = '';\n",
              "          dataTable['output_type'] = 'display_data';\n",
              "          await google.colab.output.renderOutput(dataTable, element);\n",
              "          const docLink = document.createElement('div');\n",
              "          docLink.innerHTML = docLinkHtml;\n",
              "          element.appendChild(docLink);\n",
              "        }\n",
              "      </script>\n",
              "    </div>\n",
              "  </div>\n",
              "  "
            ]
          },
          "metadata": {},
          "execution_count": 35
        }
      ]
    },
    {
      "cell_type": "markdown",
      "source": [
        "Visualizations"
      ],
      "metadata": {
        "id": "ztgMqF3Pq8RH"
      }
    },
    {
      "cell_type": "code",
      "source": [
        "%matplotlib inline\n",
        "pd.crosstab(df.job,df.y).plot(kind='bar')\n",
        "plt.title('purchase frequency for job title')\n",
        "plt.xlabel('Job')\n",
        "plt.ylabel('Frequency of purchase')"
      ],
      "metadata": {
        "colab": {
          "base_uri": "https://localhost:8080/",
          "height": 591
        },
        "id": "z1qmcgLkqwG-",
        "outputId": "3f243d9a-01d7-4e90-ae3b-0d2ee9e590a6"
      },
      "execution_count": 36,
      "outputs": [
        {
          "output_type": "execute_result",
          "data": {
            "text/plain": [
              "Text(0, 0.5, 'Frequency of purchase')"
            ]
          },
          "metadata": {},
          "execution_count": 36
        },
        {
          "output_type": "display_data",
          "data": {
            "text/plain": [
              "<Figure size 640x480 with 1 Axes>"
            ],
            "image/png": "[encoded data removed]"
          },
          "metadata": {}
        }
      ]
    },
    {
      "cell_type": "markdown",
      "source": [
        "The outcome variable can be predicted well by considering the job title, as it significantly influences the frequency of deposit purchase."
      ],
      "metadata": {
        "id": "zfTLKm3arnWZ"
      }
    },
    {
      "cell_type": "code",
      "source": [
        "table = pd.crosstab(df.marital, df.y)\n",
        "table_proportions = table.div(table.sum(1).astype(float), axis=0)\n",
        "table_proportions.plot(kind='bar', stacked=True)\n",
        "plt.title('Proportion of Customers by Marital Status and Purchase')\n",
        "plt.xlabel('Marital Status')\n",
        "plt.ylabel('Proportion of Customers')\n"
      ],
      "metadata": {
        "colab": {
          "base_uri": "https://localhost:8080/",
          "height": 552
        },
        "id": "9gib14qMrTiI",
        "outputId": "39568203-89e8-471f-f6d4-aaaef2265853"
      },
      "execution_count": 37,
      "outputs": [
        {
          "output_type": "execute_result",
          "data": {
            "text/plain": [
              "Text(0, 0.5, 'Proportion of Customers')"
            ]
          },
          "metadata": {},
          "execution_count": 37
        },
        {
          "output_type": "display_data",
          "data": {
            "text/plain": [
              "<Figure size 640x480 with 1 Axes>"
            ],
            "image/png": "[encoded data removed]"
          },
          "metadata": {}
        }
      ]
    },
    {
      "cell_type": "markdown",
      "source": [
        "The outcome variable does not appear to be strongly predicted by marital status."
      ],
      "metadata": {
        "id": "noHAU7IdsL4c"
      }
    },
    {
      "cell_type": "code",
      "source": [
        "table=pd.crosstab(df.education,df.y)\n",
        "table.div(table.sum(1).astype(float), axis=0).plot(kind='bar', stacked=True)\n",
        "plt.title('Stacked Bar Chart of Education vs Purchase')\n",
        "plt.xlabel('Education')\n",
        "plt.ylabel('Proportion of Customers')\n"
      ],
      "metadata": {
        "colab": {
          "base_uri": "https://localhost:8080/",
          "height": 632
        },
        "id": "QyVK00CWr96a",
        "outputId": "ceac7037-7199-496c-ec74-5f5372e753a9"
      },
      "execution_count": 38,
      "outputs": [
        {
          "output_type": "execute_result",
          "data": {
            "text/plain": [
              "Text(0, 0.5, 'Proportion of Customers')"
            ]
          },
          "metadata": {},
          "execution_count": 38
        },
        {
          "output_type": "display_data",
          "data": {
            "text/plain": [
              "<Figure size 640x480 with 1 Axes>"
            ],
            "image/png": "[encoded data removed]"
          },
          "metadata": {}
        }
      ]
    },
    {
      "cell_type": "markdown",
      "source": [
        "Education appears to be a reliable indicator of the dependent variable."
      ],
      "metadata": {
        "id": "nktvHTCxsbBz"
      }
    },
    {
      "cell_type": "code",
      "source": [
        "cross_tab = pd.crosstab(df.day_of_week, df.y)\n",
        "cross_tab.plot(kind='bar')\n",
        "plt.title('Purchase Frequency for Day of Week')\n",
        "plt.xlabel('Day of Week')\n",
        "plt.ylabel('Frequency of Purchase')\n",
        "plt.savefig('pur_dayofweek_bar')"
      ],
      "metadata": {
        "colab": {
          "base_uri": "https://localhost:8080/",
          "height": 499
        },
        "id": "oNxnOzMAtHej",
        "outputId": "4b744339-4636-4ffd-c638-79747c95d139"
      },
      "execution_count": 39,
      "outputs": [
        {
          "output_type": "display_data",
          "data": {
            "text/plain": [
              "<Figure size 640x480 with 1 Axes>"
            ],
            "image/png": "[encoded data removed]"
          },
          "metadata": {}
        }
      ]
    },
    {
      "cell_type": "markdown",
      "source": [
        "day_of_week may not be a good predictor of the outcome"
      ],
      "metadata": {
        "id": "sDfOIaxIuFHc"
      }
    },
    {
      "cell_type": "markdown",
      "source": [
        "."
      ],
      "metadata": {
        "id": "IO4b8E9_uR51"
      }
    },
    {
      "cell_type": "markdown",
      "source": [
        "Dummy Variables"
      ],
      "metadata": {
        "id": "my7HTalFuR8d"
      }
    },
    {
      "cell_type": "markdown",
      "source": [
        "this is variables with only two values,zero and one"
      ],
      "metadata": {
        "id": "tI3I_kpdugk2"
      }
    },
    {
      "cell_type": "code",
      "source": [
        "cat_vars=['job','marital','education','default','housing','loan','contact','month','day_of_week','poutcome']\n",
        "for var in cat_vars:\n",
        "    cat_list='var'+'_'+var\n",
        "    cat_list = pd.get_dummies(df[var], prefix=var)\n",
        "    data1=df.join(cat_list)\n",
        "    df=data1\n",
        "cat_vars=['job','marital','education','default','housing','loan','contact','month','day_of_week','poutcome']\n",
        "data_vars=df.columns.values.tolist()\n",
        "to_keep=[i for i in data_vars if i not in cat_vars]\n"
      ],
      "metadata": {
        "id": "wajB2B3PuPu1"
      },
      "execution_count": 40,
      "outputs": []
    },
    {
      "cell_type": "code",
      "source": [
        "df.head()"
      ],
      "metadata": {
        "colab": {
          "base_uri": "https://localhost:8080/",
          "height": 299
        },
        "id": "uqFNWhEnvfnR",
        "outputId": "0945b0fa-0c86-4690-c76b-56ec79de83d9"
      },
      "execution_count": 41,
      "outputs": [
        {
          "output_type": "execute_result",
          "data": {
            "text/plain": [
              "   age          job  marital          education  default housing loan  \\\n",
              "0   44  blue-collar  married              Basic  unknown     yes   no   \n",
              "1   53   technician  married            unknown       no      no   no   \n",
              "2   28   management   single  university.degree       no     yes   no   \n",
              "3   39     services  married        high.school       no      no   no   \n",
              "4   55      retired  married              Basic       no     yes   no   \n",
              "\n",
              "    contact month day_of_week  ...  month_sep  day_of_week_fri  \\\n",
              "0  cellular   aug         thu  ...          0                0   \n",
              "1  cellular   nov         fri  ...          0                1   \n",
              "2  cellular   jun         thu  ...          0                0   \n",
              "3  cellular   apr         fri  ...          0                1   \n",
              "4  cellular   aug         fri  ...          0                1   \n",
              "\n",
              "   day_of_week_mon  day_of_week_thu day_of_week_tue  day_of_week_wed  \\\n",
              "0                0                1               0                0   \n",
              "1                0                0               0                0   \n",
              "2                0                1               0                0   \n",
              "3                0                0               0                0   \n",
              "4                0                0               0                0   \n",
              "\n",
              "   poutcome_failure  poutcome_nonex  poutcome_nonexistent  poutcome_success  \n",
              "0                 0               0                     1                 0  \n",
              "1                 0               0                     1                 0  \n",
              "2                 0               0                     0                 1  \n",
              "3                 0               0                     1                 0  \n",
              "4                 0               0                     0                 1  \n",
              "\n",
              "[5 rows x 73 columns]"
            ],
            "text/html": [
              "\n",
              "  <div id=\"df-37eba041-4501-4172-96e3-b6f9666e12aa\">\n",
              "    <div class=\"colab-df-container\">\n",
              "      <div>\n",
              "<style scoped>\n",
              "    .dataframe tbody tr th:only-of-type {\n",
              "        vertical-align: middle;\n",
              "    }\n",
              "\n",
              "    .dataframe tbody tr th {\n",
              "        vertical-align: top;\n",
              "    }\n",
              "\n",
              "    .dataframe thead th {\n",
              "        text-align: right;\n",
              "    }\n",
              "</style>\n",
              "<table border=\"1\" class=\"dataframe\">\n",
              "  <thead>\n",
              "    <tr style=\"text-align: right;\">\n",
              "      <th></th>\n",
              "      <th>age</th>\n",
              "      <th>job</th>\n",
              "      <th>marital</th>\n",
              "      <th>education</th>\n",
              "      <th>default</th>\n",
              "      <th>housing</th>\n",
              "      <th>loan</th>\n",
              "      <th>contact</th>\n",
              "      <th>month</th>\n",
              "      <th>day_of_week</th>\n",
              "      <th>...</th>\n",
              "      <th>month_sep</th>\n",
              "      <th>day_of_week_fri</th>\n",
              "      <th>day_of_week_mon</th>\n",
              "      <th>day_of_week_thu</th>\n",
              "      <th>day_of_week_tue</th>\n",
              "      <th>day_of_week_wed</th>\n",
              "      <th>poutcome_failure</th>\n",
              "      <th>poutcome_nonex</th>\n",
              "      <th>poutcome_nonexistent</th>\n",
              "      <th>poutcome_success</th>\n",
              "    </tr>\n",
              "  </thead>\n",
              "  <tbody>\n",
              "    <tr>\n",
              "      <th>0</th>\n",
              "      <td>44</td>\n",
              "      <td>blue-collar</td>\n",
              "      <td>married</td>\n",
              "      <td>Basic</td>\n",
              "      <td>unknown</td>\n",
              "      <td>yes</td>\n",
              "      <td>no</td>\n",
              "      <td>cellular</td>\n",
              "      <td>aug</td>\n",
              "      <td>thu</td>\n",
              "      <td>...</td>\n",
              "      <td>0</td>\n",
              "      <td>0</td>\n",
              "      <td>0</td>\n",
              "      <td>1</td>\n",
              "      <td>0</td>\n",
              "      <td>0</td>\n",
              "      <td>0</td>\n",
              "      <td>0</td>\n",
              "      <td>1</td>\n",
              "      <td>0</td>\n",
              "    </tr>\n",
              "    <tr>\n",
              "      <th>1</th>\n",
              "      <td>53</td>\n",
              "      <td>technician</td>\n",
              "      <td>married</td>\n",
              "      <td>unknown</td>\n",
              "      <td>no</td>\n",
              "      <td>no</td>\n",
              "      <td>no</td>\n",
              "      <td>cellular</td>\n",
              "      <td>nov</td>\n",
              "      <td>fri</td>\n",
              "      <td>...</td>\n",
              "      <td>0</td>\n",
              "      <td>1</td>\n",
              "      <td>0</td>\n",
              "      <td>0</td>\n",
              "      <td>0</td>\n",
              "      <td>0</td>\n",
              "      <td>0</td>\n",
              "      <td>0</td>\n",
              "      <td>1</td>\n",
              "      <td>0</td>\n",
              "    </tr>\n",
              "    <tr>\n",
              "      <th>2</th>\n",
              "      <td>28</td>\n",
              "      <td>management</td>\n",
              "      <td>single</td>\n",
              "      <td>university.degree</td>\n",
              "      <td>no</td>\n",
              "      <td>yes</td>\n",
              "      <td>no</td>\n",
              "      <td>cellular</td>\n",
              "      <td>jun</td>\n",
              "      <td>thu</td>\n",
              "      <td>...</td>\n",
              "      <td>0</td>\n",
              "      <td>0</td>\n",
              "      <td>0</td>\n",
              "      <td>1</td>\n",
              "      <td>0</td>\n",
              "      <td>0</td>\n",
              "      <td>0</td>\n",
              "      <td>0</td>\n",
              "      <td>0</td>\n",
              "      <td>1</td>\n",
              "    </tr>\n",
              "    <tr>\n",
              "      <th>3</th>\n",
              "      <td>39</td>\n",
              "      <td>services</td>\n",
              "      <td>married</td>\n",
              "      <td>high.school</td>\n",
              "      <td>no</td>\n",
              "      <td>no</td>\n",
              "      <td>no</td>\n",
              "      <td>cellular</td>\n",
              "      <td>apr</td>\n",
              "      <td>fri</td>\n",
              "      <td>...</td>\n",
              "      <td>0</td>\n",
              "      <td>1</td>\n",
              "      <td>0</td>\n",
              "      <td>0</td>\n",
              "      <td>0</td>\n",
              "      <td>0</td>\n",
              "      <td>0</td>\n",
              "      <td>0</td>\n",
              "      <td>1</td>\n",
              "      <td>0</td>\n",
              "    </tr>\n",
              "    <tr>\n",
              "      <th>4</th>\n",
              "      <td>55</td>\n",
              "      <td>retired</td>\n",
              "      <td>married</td>\n",
              "      <td>Basic</td>\n",
              "      <td>no</td>\n",
              "      <td>yes</td>\n",
              "      <td>no</td>\n",
              "      <td>cellular</td>\n",
              "      <td>aug</td>\n",
              "      <td>fri</td>\n",
              "      <td>...</td>\n",
              "      <td>0</td>\n",
              "      <td>1</td>\n",
              "      <td>0</td>\n",
              "      <td>0</td>\n",
              "      <td>0</td>\n",
              "      <td>0</td>\n",
              "      <td>0</td>\n",
              "      <td>0</td>\n",
              "      <td>0</td>\n",
              "      <td>1</td>\n",
              "    </tr>\n",
              "  </tbody>\n",
              "</table>\n",
              "<p>5 rows × 73 columns</p>\n",
              "</div>\n",
              "      <button class=\"colab-df-convert\" onclick=\"convertToInteractive('df-37eba041-4501-4172-96e3-b6f9666e12aa')\"\n",
              "              title=\"Convert this dataframe to an interactive table.\"\n",
              "              style=\"display:none;\">\n",
              "        \n",
              "  <svg xmlns=\"http://www.w3.org/2000/svg\" height=\"24px\"viewBox=\"0 0 24 24\"\n",
              "       width=\"24px\">\n",
              "    <path d=\"M0 0h24v24H0V0z\" fill=\"none\"/>\n",
              "    <path d=\"M18.56 5.44l.94 2.06.94-2.06 2.06-.94-2.06-.94-.94-2.06-.94 2.06-2.06.94zm-11 1L8.5 8.5l.94-2.06 2.06-.94-2.06-.94L8.5 2.5l-.94 2.06-2.06.94zm10 10l.94 2.06.94-2.06 2.06-.94-2.06-.94-.94-2.06-.94 2.06-2.06.94z\"/><path d=\"M17.41 7.96l-1.37-1.37c-.4-.4-.92-.59-1.43-.59-.52 0-1.04.2-1.43.59L10.3 9.45l-7.72 7.72c-.78.78-.78 2.05 0 2.83L4 21.41c.39.39.9.59 1.41.59.51 0 1.02-.2 1.41-.59l7.78-7.78 2.81-2.81c.8-.78.8-2.07 0-2.86zM5.41 20L4 18.59l7.72-7.72 1.47 1.35L5.41 20z\"/>\n",
              "  </svg>\n",
              "      </button>\n",
              "      \n",
              "  <style>\n",
              "    .colab-df-container {\n",
              "      display:flex;\n",
              "      flex-wrap:wrap;\n",
              "      gap: 12px;\n",
              "    }\n",
              "\n",
              "    .colab-df-convert {\n",
              "      background-color: #E8F0FE;\n",
              "      border: none;\n",
              "      border-radius: 50%;\n",
              "      cursor: pointer;\n",
              "      display: none;\n",
              "      fill: #1967D2;\n",
              "      height: 32px;\n",
              "      padding: 0 0 0 0;\n",
              "      width: 32px;\n",
              "    }\n",
              "\n",
              "    .colab-df-convert:hover {\n",
              "      background-color: #E2EBFA;\n",
              "      box-shadow: 0px 1px 2px rgba(60, 64, 67, 0.3), 0px 1px 3px 1px rgba(60, 64, 67, 0.15);\n",
              "      fill: #174EA6;\n",
              "    }\n",
              "\n",
              "    [theme=dark] .colab-df-convert {\n",
              "      background-color: #3B4455;\n",
              "      fill: #D2E3FC;\n",
              "    }\n",
              "\n",
              "    [theme=dark] .colab-df-convert:hover {\n",
              "      background-color: #434B5C;\n",
              "      box-shadow: 0px 1px 3px 1px rgba(0, 0, 0, 0.15);\n",
              "      filter: drop-shadow(0px 1px 2px rgba(0, 0, 0, 0.3));\n",
              "      fill: #FFFFFF;\n",
              "    }\n",
              "  </style>\n",
              "\n",
              "      <script>\n",
              "        const buttonEl =\n",
              "          document.querySelector('#df-37eba041-4501-4172-96e3-b6f9666e12aa button.colab-df-convert');\n",
              "        buttonEl.style.display =\n",
              "          google.colab.kernel.accessAllowed ? 'block' : 'none';\n",
              "\n",
              "        async function convertToInteractive(key) {\n",
              "          const element = document.querySelector('#df-37eba041-4501-4172-96e3-b6f9666e12aa');\n",
              "          const dataTable =\n",
              "            await google.colab.kernel.invokeFunction('convertToInteractive',\n",
              "                                                     [key], {});\n",
              "          if (!dataTable) return;\n",
              "\n",
              "          const docLinkHtml = 'Like what you see? Visit the ' +\n",
              "            '<a target=\"_blank\" href=https://colab.research.google.com/notebooks/data_table.ipynb>data table notebook</a>'\n",
              "            + ' to learn more about interactive tables.';\n",
              "          element.innerHTML = '';\n",
              "          dataTable['output_type'] = 'display_data';\n",
              "          await google.colab.output.renderOutput(dataTable, element);\n",
              "          const docLink = document.createElement('div');\n",
              "          docLink.innerHTML = docLinkHtml;\n",
              "          element.appendChild(docLink);\n",
              "        }\n",
              "      </script>\n",
              "    </div>\n",
              "  </div>\n",
              "  "
            ]
          },
          "metadata": {},
          "execution_count": 41
        }
      ]
    },
    {
      "cell_type": "code",
      "source": [
        "data=df[to_keep]"
      ],
      "metadata": {
        "id": "RuCFO76WwdB_"
      },
      "execution_count": 42,
      "outputs": []
    },
    {
      "cell_type": "code",
      "source": [
        "data.columns"
      ],
      "metadata": {
        "colab": {
          "base_uri": "https://localhost:8080/"
        },
        "id": "NWEUkXA9wwPF",
        "outputId": "5e52d6a4-5028-45a1-b31b-0d1ec5f704db"
      },
      "execution_count": 43,
      "outputs": [
        {
          "output_type": "execute_result",
          "data": {
            "text/plain": [
              "Index(['age', 'duration', 'campaign', 'pdays', 'previous', 'emp_var_rate',\n",
              "       'cons_price_idx', 'cons_conf_idx', 'euribor3m', 'nr_employed', 'y',\n",
              "       'job_admin.', 'job_blue-collar', 'job_entrepreneur', 'job_housemaid',\n",
              "       'job_management', 'job_retired', 'job_self-employed', 'job_services',\n",
              "       'job_student', 'job_technician', 'job_unemployed', 'job_unknown',\n",
              "       'marital_divorced', 'marital_married', 'marital_single',\n",
              "       'marital_unknown', 'education_Basic', 'education_high.school',\n",
              "       'education_illiterate', 'education_professional.course',\n",
              "       'education_university.degree', 'education_unknown', 'default_no',\n",
              "       'default_unknown', 'default_yes', 'housing_no', 'housing_unknown',\n",
              "       'housing_yes', 'loan_no', 'loan_unknown', 'loan_yes',\n",
              "       'contact_cellular', 'contact_telephone', 'month_apr', 'month_aug',\n",
              "       'month_dec', 'month_jul', 'month_jun', 'month_mar', 'month_may',\n",
              "       'month_nov', 'month_oct', 'month_sep', 'day_of_week_fri',\n",
              "       'day_of_week_mon', 'day_of_week_thu', 'day_of_week_tue',\n",
              "       'day_of_week_wed', 'poutcome_failure', 'poutcome_nonex',\n",
              "       'poutcome_nonexistent', 'poutcome_success'],\n",
              "      dtype='object')"
            ]
          },
          "metadata": {},
          "execution_count": 43
        }
      ]
    },
    {
      "cell_type": "markdown",
      "source": [
        "Over-Sampling using SMOTE\n",
        "more details about SMOTE:- https://machinelearningmastery.com/smote-oversampling-for-imbalanced-classification/"
      ],
      "metadata": {
        "id": "skJ09g4n0uU6"
      }
    },
    {
      "cell_type": "code",
      "source": [
        "X = data.loc[:, data.columns != 'y']\n",
        "y = data.loc[:, data.columns == 'y']\n",
        "\n",
        "from imblearn.over_sampling import SMOTE\n",
        "\n",
        "os = SMOTE(random_state=0)\n",
        "\n",
        "X_train, X_test, y_train, y_test = train_test_split(X, y, test_size=0.3, random_state=0)\n",
        "\n",
        "columns = X_train.columns\n",
        "\n",
        "os_data_X,os_data_y=os.fit_resample(X_train, y_train)\n",
        "os_data_X = pd.DataFrame(data=os_data_X,columns=columns )\n",
        "os_data_y= pd.DataFrame(data=os_data_y,columns=['y'])\n"
      ],
      "metadata": {
        "id": "QvSAyPpexQLG"
      },
      "execution_count": 44,
      "outputs": []
    },
    {
      "cell_type": "code",
      "source": [
        "print(os_data_X.shape)\n",
        "print(os_data_y.shape)"
      ],
      "metadata": {
        "colab": {
          "base_uri": "https://localhost:8080/"
        },
        "id": "4iPyeG0O1ucC",
        "outputId": "c470ad21-c8a6-4486-9076-dd2b43865e4b"
      },
      "execution_count": 45,
      "outputs": [
        {
          "output_type": "stream",
          "name": "stdout",
          "text": [
            "(32792, 62)\n",
            "(32792, 1)\n"
          ]
        }
      ]
    },
    {
      "cell_type": "markdown",
      "source": [
        "We have achieved a well-balanced dataset now! You might have observed that I applied oversampling exclusively to the training data. This approach ensures that synthetic observations are generated solely from the training data, preventing any information leakage from the test data into the model training process."
      ],
      "metadata": {
        "id": "UT7p0hgB3Ksy"
      }
    },
    {
      "cell_type": "markdown",
      "source": [
        "."
      ],
      "metadata": {
        "id": "CADJ_xlE3orx"
      }
    },
    {
      "cell_type": "markdown",
      "source": [
        "Now RFE\n",
        "The objective of Recursive Feature Elimination (RFE) is to choose features by iteratively evaluating increasingly reduced sets of features."
      ],
      "metadata": {
        "id": "EuRorVGW3qfv"
      }
    },
    {
      "cell_type": "code",
      "source": [
        "'''data_final_vars=data.columns.values.tolist()\n",
        "y=['y']\n",
        "X=[i for i in data_final_vars if i not in y]\n",
        "\n",
        "from sklearn.feature_selection import RFE\n",
        "\n",
        "logreg = LogisticRegression()\n",
        "\n",
        "rfe = RFE(logreg, 20)\n",
        "rfe = rfe.fit(os_data_X, os_data_y.values.ravel())\n",
        "\n",
        "print(rfe.support_)\n",
        "print(rfe.ranking_)'''\n",
        "data_final_vars = data.columns.values.tolist()\n",
        "y = ['y']\n",
        "X = [i for i in data_final_vars if i not in y]\n",
        "\n",
        "from sklearn.feature_selection import RFE\n",
        "\n",
        "logreg = LogisticRegression()\n",
        "\n",
        "rfe = RFE(logreg)\n",
        "rfe = rfe.fit(os_data_X, os_data_y.values.ravel())\n",
        "\n",
        "print(rfe.support_)\n",
        "print(rfe.ranking_)\n"
      ],
      "metadata": {
        "colab": {
          "base_uri": "https://localhost:8080/"
        },
        "id": "6RHXfLomCmwP",
        "outputId": "8ee33438-e16b-4fb2-d003-431b446672f5"
      },
      "execution_count": 50,
      "outputs": [
        {
          "output_type": "stream",
          "name": "stderr",
          "text": [
            "/usr/local/lib/python3.10/dist-packages/sklearn/linear_model/_logistic.py:458: ConvergenceWarning: lbfgs failed to converge (status=1):\n",
            "STOP: TOTAL NO. of ITERATIONS REACHED LIMIT.\n",
            "\n",
            "Increase the number of iterations (max_iter) or scale the data as shown in:\n",
            "    https://scikit-learn.org/stable/modules/preprocessing.html\n",
            "Please also refer to the documentation for alternative solver options:\n",
            "    https://scikit-learn.org/stable/modules/linear_model.html#logistic-regression\n",
            "  n_iter_i = _check_optimize_result(\n",
            "/usr/local/lib/python3.10/dist-packages/sklearn/linear_model/_logistic.py:458: ConvergenceWarning: lbfgs failed to converge (status=1):\n",
            "STOP: TOTAL NO. of ITERATIONS REACHED LIMIT.\n",
            "\n",
            "Increase the number of iterations (max_iter) or scale the data as shown in:\n",
            "    https://scikit-learn.org/stable/modules/preprocessing.html\n",
            "Please also refer to the documentation for alternative solver options:\n",
            "    https://scikit-learn.org/stable/modules/linear_model.html#logistic-regression\n",
            "  n_iter_i = _check_optimize_result(\n",
            "/usr/local/lib/python3.10/dist-packages/sklearn/linear_model/_logistic.py:458: ConvergenceWarning: lbfgs failed to converge (status=1):\n",
            "STOP: TOTAL NO. of ITERATIONS REACHED LIMIT.\n",
            "\n",
            "Increase the number of iterations (max_iter) or scale the data as shown in:\n",
            "    https://scikit-learn.org/stable/modules/preprocessing.html\n",
            "Please also refer to the documentation for alternative solver options:\n",
            "    https://scikit-learn.org/stable/modules/linear_model.html#logistic-regression\n",
            "  n_iter_i = _check_optimize_result(\n",
            "/usr/local/lib/python3.10/dist-packages/sklearn/linear_model/_logistic.py:458: ConvergenceWarning: lbfgs failed to converge (status=1):\n",
            "STOP: TOTAL NO. of ITERATIONS REACHED LIMIT.\n",
            "\n",
            "Increase the number of iterations (max_iter) or scale the data as shown in:\n",
            "    https://scikit-learn.org/stable/modules/preprocessing.html\n",
            "Please also refer to the documentation for alternative solver options:\n",
            "    https://scikit-learn.org/stable/modules/linear_model.html#logistic-regression\n",
            "  n_iter_i = _check_optimize_result(\n",
            "/usr/local/lib/python3.10/dist-packages/sklearn/linear_model/_logistic.py:458: ConvergenceWarning: lbfgs failed to converge (status=1):\n",
            "STOP: TOTAL NO. of ITERATIONS REACHED LIMIT.\n",
            "\n",
            "Increase the number of iterations (max_iter) or scale the data as shown in:\n",
            "    https://scikit-learn.org/stable/modules/preprocessing.html\n",
            "Please also refer to the documentation for alternative solver options:\n",
            "    https://scikit-learn.org/stable/modules/linear_model.html#logistic-regression\n",
            "  n_iter_i = _check_optimize_result(\n",
            "/usr/local/lib/python3.10/dist-packages/sklearn/linear_model/_logistic.py:458: ConvergenceWarning: lbfgs failed to converge (status=1):\n",
            "STOP: TOTAL NO. of ITERATIONS REACHED LIMIT.\n",
            "\n",
            "Increase the number of iterations (max_iter) or scale the data as shown in:\n",
            "    https://scikit-learn.org/stable/modules/preprocessing.html\n",
            "Please also refer to the documentation for alternative solver options:\n",
            "    https://scikit-learn.org/stable/modules/linear_model.html#logistic-regression\n",
            "  n_iter_i = _check_optimize_result(\n",
            "/usr/local/lib/python3.10/dist-packages/sklearn/linear_model/_logistic.py:458: ConvergenceWarning: lbfgs failed to converge (status=1):\n",
            "STOP: TOTAL NO. of ITERATIONS REACHED LIMIT.\n",
            "\n",
            "Increase the number of iterations (max_iter) or scale the data as shown in:\n",
            "    https://scikit-learn.org/stable/modules/preprocessing.html\n",
            "Please also refer to the documentation for alternative solver options:\n",
            "    https://scikit-learn.org/stable/modules/linear_model.html#logistic-regression\n",
            "  n_iter_i = _check_optimize_result(\n",
            "/usr/local/lib/python3.10/dist-packages/sklearn/linear_model/_logistic.py:458: ConvergenceWarning: lbfgs failed to converge (status=1):\n",
            "STOP: TOTAL NO. of ITERATIONS REACHED LIMIT.\n",
            "\n",
            "Increase the number of iterations (max_iter) or scale the data as shown in:\n",
            "    https://scikit-learn.org/stable/modules/preprocessing.html\n",
            "Please also refer to the documentation for alternative solver options:\n",
            "    https://scikit-learn.org/stable/modules/linear_model.html#logistic-regression\n",
            "  n_iter_i = _check_optimize_result(\n",
            "/usr/local/lib/python3.10/dist-packages/sklearn/linear_model/_logistic.py:458: ConvergenceWarning: lbfgs failed to converge (status=1):\n",
            "STOP: TOTAL NO. of ITERATIONS REACHED LIMIT.\n",
            "\n",
            "Increase the number of iterations (max_iter) or scale the data as shown in:\n",
            "    https://scikit-learn.org/stable/modules/preprocessing.html\n",
            "Please also refer to the documentation for alternative solver options:\n",
            "    https://scikit-learn.org/stable/modules/linear_model.html#logistic-regression\n",
            "  n_iter_i = _check_optimize_result(\n",
            "/usr/local/lib/python3.10/dist-packages/sklearn/linear_model/_logistic.py:458: ConvergenceWarning: lbfgs failed to converge (status=1):\n",
            "STOP: TOTAL NO. of ITERATIONS REACHED LIMIT.\n",
            "\n",
            "Increase the number of iterations (max_iter) or scale the data as shown in:\n",
            "    https://scikit-learn.org/stable/modules/preprocessing.html\n",
            "Please also refer to the documentation for alternative solver options:\n",
            "    https://scikit-learn.org/stable/modules/linear_model.html#logistic-regression\n",
            "  n_iter_i = _check_optimize_result(\n",
            "/usr/local/lib/python3.10/dist-packages/sklearn/linear_model/_logistic.py:458: ConvergenceWarning: lbfgs failed to converge (status=1):\n",
            "STOP: TOTAL NO. of ITERATIONS REACHED LIMIT.\n",
            "\n",
            "Increase the number of iterations (max_iter) or scale the data as shown in:\n",
            "    https://scikit-learn.org/stable/modules/preprocessing.html\n",
            "Please also refer to the documentation for alternative solver options:\n",
            "    https://scikit-learn.org/stable/modules/linear_model.html#logistic-regression\n",
            "  n_iter_i = _check_optimize_result(\n",
            "/usr/local/lib/python3.10/dist-packages/sklearn/linear_model/_logistic.py:458: ConvergenceWarning: lbfgs failed to converge (status=1):\n",
            "STOP: TOTAL NO. of ITERATIONS REACHED LIMIT.\n",
            "\n",
            "Increase the number of iterations (max_iter) or scale the data as shown in:\n",
            "    https://scikit-learn.org/stable/modules/preprocessing.html\n",
            "Please also refer to the documentation for alternative solver options:\n",
            "    https://scikit-learn.org/stable/modules/linear_model.html#logistic-regression\n",
            "  n_iter_i = _check_optimize_result(\n",
            "/usr/local/lib/python3.10/dist-packages/sklearn/linear_model/_logistic.py:458: ConvergenceWarning: lbfgs failed to converge (status=1):\n",
            "STOP: TOTAL NO. of ITERATIONS REACHED LIMIT.\n",
            "\n",
            "Increase the number of iterations (max_iter) or scale the data as shown in:\n",
            "    https://scikit-learn.org/stable/modules/preprocessing.html\n",
            "Please also refer to the documentation for alternative solver options:\n",
            "    https://scikit-learn.org/stable/modules/linear_model.html#logistic-regression\n",
            "  n_iter_i = _check_optimize_result(\n",
            "/usr/local/lib/python3.10/dist-packages/sklearn/linear_model/_logistic.py:458: ConvergenceWarning: lbfgs failed to converge (status=1):\n",
            "STOP: TOTAL NO. of ITERATIONS REACHED LIMIT.\n",
            "\n",
            "Increase the number of iterations (max_iter) or scale the data as shown in:\n",
            "    https://scikit-learn.org/stable/modules/preprocessing.html\n",
            "Please also refer to the documentation for alternative solver options:\n",
            "    https://scikit-learn.org/stable/modules/linear_model.html#logistic-regression\n",
            "  n_iter_i = _check_optimize_result(\n",
            "/usr/local/lib/python3.10/dist-packages/sklearn/linear_model/_logistic.py:458: ConvergenceWarning: lbfgs failed to converge (status=1):\n",
            "STOP: TOTAL NO. of ITERATIONS REACHED LIMIT.\n",
            "\n",
            "Increase the number of iterations (max_iter) or scale the data as shown in:\n",
            "    https://scikit-learn.org/stable/modules/preprocessing.html\n",
            "Please also refer to the documentation for alternative solver options:\n",
            "    https://scikit-learn.org/stable/modules/linear_model.html#logistic-regression\n",
            "  n_iter_i = _check_optimize_result(\n",
            "/usr/local/lib/python3.10/dist-packages/sklearn/linear_model/_logistic.py:458: ConvergenceWarning: lbfgs failed to converge (status=1):\n",
            "STOP: TOTAL NO. of ITERATIONS REACHED LIMIT.\n",
            "\n",
            "Increase the number of iterations (max_iter) or scale the data as shown in:\n",
            "    https://scikit-learn.org/stable/modules/preprocessing.html\n",
            "Please also refer to the documentation for alternative solver options:\n",
            "    https://scikit-learn.org/stable/modules/linear_model.html#logistic-regression\n",
            "  n_iter_i = _check_optimize_result(\n",
            "/usr/local/lib/python3.10/dist-packages/sklearn/linear_model/_logistic.py:458: ConvergenceWarning: lbfgs failed to converge (status=1):\n",
            "STOP: TOTAL NO. of ITERATIONS REACHED LIMIT.\n",
            "\n",
            "Increase the number of iterations (max_iter) or scale the data as shown in:\n",
            "    https://scikit-learn.org/stable/modules/preprocessing.html\n",
            "Please also refer to the documentation for alternative solver options:\n",
            "    https://scikit-learn.org/stable/modules/linear_model.html#logistic-regression\n",
            "  n_iter_i = _check_optimize_result(\n",
            "/usr/local/lib/python3.10/dist-packages/sklearn/linear_model/_logistic.py:458: ConvergenceWarning: lbfgs failed to converge (status=1):\n",
            "STOP: TOTAL NO. of ITERATIONS REACHED LIMIT.\n",
            "\n",
            "Increase the number of iterations (max_iter) or scale the data as shown in:\n",
            "    https://scikit-learn.org/stable/modules/preprocessing.html\n",
            "Please also refer to the documentation for alternative solver options:\n",
            "    https://scikit-learn.org/stable/modules/linear_model.html#logistic-regression\n",
            "  n_iter_i = _check_optimize_result(\n",
            "/usr/local/lib/python3.10/dist-packages/sklearn/linear_model/_logistic.py:458: ConvergenceWarning: lbfgs failed to converge (status=1):\n",
            "STOP: TOTAL NO. of ITERATIONS REACHED LIMIT.\n",
            "\n",
            "Increase the number of iterations (max_iter) or scale the data as shown in:\n",
            "    https://scikit-learn.org/stable/modules/preprocessing.html\n",
            "Please also refer to the documentation for alternative solver options:\n",
            "    https://scikit-learn.org/stable/modules/linear_model.html#logistic-regression\n",
            "  n_iter_i = _check_optimize_result(\n",
            "/usr/local/lib/python3.10/dist-packages/sklearn/linear_model/_logistic.py:458: ConvergenceWarning: lbfgs failed to converge (status=1):\n",
            "STOP: TOTAL NO. of ITERATIONS REACHED LIMIT.\n",
            "\n",
            "Increase the number of iterations (max_iter) or scale the data as shown in:\n",
            "    https://scikit-learn.org/stable/modules/preprocessing.html\n",
            "Please also refer to the documentation for alternative solver options:\n",
            "    https://scikit-learn.org/stable/modules/linear_model.html#logistic-regression\n",
            "  n_iter_i = _check_optimize_result(\n",
            "/usr/local/lib/python3.10/dist-packages/sklearn/linear_model/_logistic.py:458: ConvergenceWarning: lbfgs failed to converge (status=1):\n",
            "STOP: TOTAL NO. of ITERATIONS REACHED LIMIT.\n",
            "\n",
            "Increase the number of iterations (max_iter) or scale the data as shown in:\n",
            "    https://scikit-learn.org/stable/modules/preprocessing.html\n",
            "Please also refer to the documentation for alternative solver options:\n",
            "    https://scikit-learn.org/stable/modules/linear_model.html#logistic-regression\n",
            "  n_iter_i = _check_optimize_result(\n",
            "/usr/local/lib/python3.10/dist-packages/sklearn/linear_model/_logistic.py:458: ConvergenceWarning: lbfgs failed to converge (status=1):\n",
            "STOP: TOTAL NO. of ITERATIONS REACHED LIMIT.\n",
            "\n",
            "Increase the number of iterations (max_iter) or scale the data as shown in:\n",
            "    https://scikit-learn.org/stable/modules/preprocessing.html\n",
            "Please also refer to the documentation for alternative solver options:\n",
            "    https://scikit-learn.org/stable/modules/linear_model.html#logistic-regression\n",
            "  n_iter_i = _check_optimize_result(\n",
            "/usr/local/lib/python3.10/dist-packages/sklearn/linear_model/_logistic.py:458: ConvergenceWarning: lbfgs failed to converge (status=1):\n",
            "STOP: TOTAL NO. of ITERATIONS REACHED LIMIT.\n",
            "\n",
            "Increase the number of iterations (max_iter) or scale the data as shown in:\n",
            "    https://scikit-learn.org/stable/modules/preprocessing.html\n",
            "Please also refer to the documentation for alternative solver options:\n",
            "    https://scikit-learn.org/stable/modules/linear_model.html#logistic-regression\n",
            "  n_iter_i = _check_optimize_result(\n"
          ]
        },
        {
          "output_type": "stream",
          "name": "stdout",
          "text": [
            "[False False False False False False False False False False False  True\n",
            "  True  True  True False  True  True False  True False  True  True  True\n",
            "  True False  True  True False  True  True  True False False False  True\n",
            "  True  True  True  True  True  True  True False False False False False\n",
            " False False False False False  True  True  True  True  True  True False\n",
            "  True False]\n",
            "[26 24 20 28 19 22 16 25 14 23  2  1  1  1  1  5  1  1  4  1  3  1  1  1\n",
            "  1 29  1  1 30  1  1  1 27 17 31  1  1  1  1  1  1  1  1 11  7 12  8 10\n",
            " 21  9  6 15 13  1  1  1  1  1  1 32  1 18]\n"
          ]
        }
      ]
    },
    {
      "cell_type": "markdown",
      "source": [
        "The following features have been selected using RFE: \"euribor3m\", \"job_blue-collar\", \"job_housemaid\", \"marital_unknown\", \"education_illiterate\", \"default_no\", \"default_unknown\", \"contact_cellular\", \"contact_telephone\", \"month_apr\", \"month_aug\", \"month_dec\", \"month_jul\", \"month_jun\", \"month_mar\", \"month_may\", \"month_nov\", \"month_oct\", \"poutcome_failure\", \"poutcome_success\"."
      ],
      "metadata": {
        "id": "I0ilHXf-EmXh"
      }
    },
    {
      "cell_type": "code",
      "source": [
        "cols=['euribor3m', 'job_blue-collar', 'job_housemaid', 'marital_unknown', 'education_illiterate', 'default_no', 'default_unknown',\n",
        "      'contact_cellular', 'contact_telephone', 'month_apr', 'month_aug', 'month_dec', 'month_jul', 'month_jun', 'month_mar',\n",
        "      'month_may', 'month_nov', 'month_oct', \"poutcome_failure\", \"poutcome_success\"]\n",
        "X=os_data_X[cols]\n",
        "y=os_data_y['y']"
      ],
      "metadata": {
        "id": "rGVu0Nw6C5QJ"
      },
      "execution_count": 53,
      "outputs": []
    },
    {
      "cell_type": "markdown",
      "source": [
        "Implementing the model"
      ],
      "metadata": {
        "id": "s68Xwn1aFDXJ"
      }
    },
    {
      "cell_type": "code",
      "source": [
        "import statsmodels.api as sm\n",
        "logit_model=sm.Logit(y,X)\n",
        "result=logit_model.fit()\n",
        "print(result.summary2())"
      ],
      "metadata": {
        "colab": {
          "base_uri": "https://localhost:8080/"
        },
        "id": "xskLC50xE0jw",
        "outputId": "4e9faa89-31c4-4a02-b03d-fa5f58e0da7d"
      },
      "execution_count": 55,
      "outputs": [
        {
          "output_type": "stream",
          "name": "stdout",
          "text": [
            "Optimization terminated successfully.\n",
            "         Current function value: 0.450876\n",
            "         Iterations 7\n",
            "                           Results: Logit\n",
            "=====================================================================\n",
            "Model:                Logit             Pseudo R-squared:  0.350     \n",
            "Dependent Variable:   y                 AIC:               29610.2590\n",
            "Date:                 2023-06-21 13:11  BIC:               29778.2178\n",
            "No. Observations:     32792             Log-Likelihood:    -14785.   \n",
            "Df Model:             19                LL-Null:           -22730.   \n",
            "Df Residuals:         32772             LLR p-value:       0.0000    \n",
            "Converged:            1.0000            Scale:             1.0000    \n",
            "No. Iterations:       7.0000                                         \n",
            "---------------------------------------------------------------------\n",
            "                      Coef.  Std.Err.    z     P>|z|   [0.025  0.975]\n",
            "---------------------------------------------------------------------\n",
            "euribor3m             0.1641   0.0101  16.2326 0.0000  0.1443  0.1839\n",
            "job_blue-collar      -1.0501   0.0489 -21.4917 0.0000 -1.1458 -0.9543\n",
            "job_housemaid        -1.6858   0.1767  -9.5383 0.0000 -2.0322 -1.3394\n",
            "marital_unknown      -1.1872   0.5761  -2.0607 0.0393 -2.3164 -0.0580\n",
            "education_illiterate -0.3111   0.8644  -0.3600 0.7189 -2.0053  1.3830\n",
            "default_no            0.8280   0.0464  17.8290 0.0000  0.7370  0.9191\n",
            "default_unknown      -0.3828   0.0705  -5.4260 0.0000 -0.5210 -0.2445\n",
            "contact_cellular      1.4280   0.0552  25.8608 0.0000  1.3198  1.5362\n",
            "contact_telephone    -0.3474   0.0727  -4.7760 0.0000 -0.4900 -0.2048\n",
            "month_apr            -2.2769   0.0693 -32.8661 0.0000 -2.4127 -2.1411\n",
            "month_aug            -3.6893   0.0667 -55.2925 0.0000 -3.8201 -3.5586\n",
            "month_dec            -2.2610   0.2486  -9.0948 0.0000 -2.7482 -1.7737\n",
            "month_jul            -3.4420   0.0658 -52.3347 0.0000 -3.5710 -3.3131\n",
            "month_jun            -2.2638   0.0685 -33.0669 0.0000 -2.3980 -2.1296\n",
            "month_mar            -1.1426   0.1212  -9.4274 0.0000 -1.3802 -0.9051\n",
            "month_may            -2.4857   0.0560 -44.3962 0.0000 -2.5955 -2.3760\n",
            "month_nov            -3.6066   0.0727 -49.6101 0.0000 -3.7491 -3.4641\n",
            "month_oct            -0.9124   0.1087  -8.3961 0.0000 -1.1253 -0.6994\n",
            "poutcome_failure     -0.8089   0.0579 -13.9658 0.0000 -0.9224 -0.6954\n",
            "poutcome_success      2.5758   0.0846  30.4595 0.0000  2.4100  2.7415\n",
            "=====================================================================\n",
            "\n"
          ]
        }
      ]
    },
    {
      "cell_type": "markdown",
      "source": [
        "Logistic Regression Model Fit\n"
      ],
      "metadata": {
        "id": "uDC1bvlMFsT5"
      }
    },
    {
      "cell_type": "code",
      "source": [
        "from sklearn.linear_model import LogisticRegression\n",
        "from sklearn import metrics\n",
        "X_train, X_test, y_train, y_test = train_test_split(X, y, test_size=0.3, random_state=0)\n",
        "logreg = LogisticRegression()\n",
        "logreg.fit(X_train, y_train)"
      ],
      "metadata": {
        "colab": {
          "base_uri": "https://localhost:8080/",
          "height": 243
        },
        "id": "Rv2EeqxPFMFS",
        "outputId": "2887dd02-edc3-41fa-a03e-fe39465df681"
      },
      "execution_count": 56,
      "outputs": [
        {
          "output_type": "stream",
          "name": "stderr",
          "text": [
            "/usr/local/lib/python3.10/dist-packages/sklearn/linear_model/_logistic.py:458: ConvergenceWarning: lbfgs failed to converge (status=1):\n",
            "STOP: TOTAL NO. of ITERATIONS REACHED LIMIT.\n",
            "\n",
            "Increase the number of iterations (max_iter) or scale the data as shown in:\n",
            "    https://scikit-learn.org/stable/modules/preprocessing.html\n",
            "Please also refer to the documentation for alternative solver options:\n",
            "    https://scikit-learn.org/stable/modules/linear_model.html#logistic-regression\n",
            "  n_iter_i = _check_optimize_result(\n"
          ]
        },
        {
          "output_type": "execute_result",
          "data": {
            "text/plain": [
              "LogisticRegression()"
            ],
            "text/html": [
              "<style>#sk-container-id-1 {color: black;background-color: white;}#sk-container-id-1 pre{padding: 0;}#sk-container-id-1 div.sk-toggleable {background-color: white;}#sk-container-id-1 label.sk-toggleable__label {cursor: pointer;display: block;width: 100%;margin-bottom: 0;padding: 0.3em;box-sizing: border-box;text-align: center;}#sk-container-id-1 label.sk-toggleable__label-arrow:before {content: \"▸\";float: left;margin-right: 0.25em;color: #696969;}#sk-container-id-1 label.sk-toggleable__label-arrow:hover:before {color: black;}#sk-container-id-1 div.sk-estimator:hover label.sk-toggleable__label-arrow:before {color: black;}#sk-container-id-1 div.sk-toggleable__content {max-height: 0;max-width: 0;overflow: hidden;text-align: left;background-color: #f0f8ff;}#sk-container-id-1 div.sk-toggleable__content pre {margin: 0.2em;color: black;border-radius: 0.25em;background-color: #f0f8ff;}#sk-container-id-1 input.sk-toggleable__control:checked~div.sk-toggleable__content {max-height: 200px;max-width: 100%;overflow: auto;}#sk-container-id-1 input.sk-toggleable__control:checked~label.sk-toggleable__label-arrow:before {content: \"▾\";}#sk-container-id-1 div.sk-estimator input.sk-toggleable__control:checked~label.sk-toggleable__label {background-color: #d4ebff;}#sk-container-id-1 div.sk-label input.sk-toggleable__control:checked~label.sk-toggleable__label {background-color: #d4ebff;}#sk-container-id-1 input.sk-hidden--visually {border: 0;clip: rect(1px 1px 1px 1px);clip: rect(1px, 1px, 1px, 1px);height: 1px;margin: -1px;overflow: hidden;padding: 0;position: absolute;width: 1px;}#sk-container-id-1 div.sk-estimator {font-family: monospace;background-color: #f0f8ff;border: 1px dotted black;border-radius: 0.25em;box-sizing: border-box;margin-bottom: 0.5em;}#sk-container-id-1 div.sk-estimator:hover {background-color: #d4ebff;}#sk-container-id-1 div.sk-parallel-item::after {content: \"\";width: 100%;border-bottom: 1px solid gray;flex-grow: 1;}#sk-container-id-1 div.sk-label:hover label.sk-toggleable__label {background-color: #d4ebff;}#sk-container-id-1 div.sk-serial::before {content: \"\";position: absolute;border-left: 1px solid gray;box-sizing: border-box;top: 0;bottom: 0;left: 50%;z-index: 0;}#sk-container-id-1 div.sk-serial {display: flex;flex-direction: column;align-items: center;background-color: white;padding-right: 0.2em;padding-left: 0.2em;position: relative;}#sk-container-id-1 div.sk-item {position: relative;z-index: 1;}#sk-container-id-1 div.sk-parallel {display: flex;align-items: stretch;justify-content: center;background-color: white;position: relative;}#sk-container-id-1 div.sk-item::before, #sk-container-id-1 div.sk-parallel-item::before {content: \"\";position: absolute;border-left: 1px solid gray;box-sizing: border-box;top: 0;bottom: 0;left: 50%;z-index: -1;}#sk-container-id-1 div.sk-parallel-item {display: flex;flex-direction: column;z-index: 1;position: relative;background-color: white;}#sk-container-id-1 div.sk-parallel-item:first-child::after {align-self: flex-end;width: 50%;}#sk-container-id-1 div.sk-parallel-item:last-child::after {align-self: flex-start;width: 50%;}#sk-container-id-1 div.sk-parallel-item:only-child::after {width: 0;}#sk-container-id-1 div.sk-dashed-wrapped {border: 1px dashed gray;margin: 0 0.4em 0.5em 0.4em;box-sizing: border-box;padding-bottom: 0.4em;background-color: white;}#sk-container-id-1 div.sk-label label {font-family: monospace;font-weight: bold;display: inline-block;line-height: 1.2em;}#sk-container-id-1 div.sk-label-container {text-align: center;}#sk-container-id-1 div.sk-container {/* jupyter's `normalize.less` sets `[hidden] { display: none; }` but bootstrap.min.css set `[hidden] { display: none !important; }` so we also need the `!important` here to be able to override the default hidden behavior on the sphinx rendered scikit-learn.org. See: https://github.com/scikit-learn/scikit-learn/issues/21755 */display: inline-block !important;position: relative;}#sk-container-id-1 div.sk-text-repr-fallback {display: none;}</style><div id=\"sk-container-id-1\" class=\"sk-top-container\"><div class=\"sk-text-repr-fallback\"><pre>LogisticRegression()</pre><b>In a Jupyter environment, please rerun this cell to show the HTML representation or trust the notebook. <br />On GitHub, the HTML representation is unable to render, please try loading this page with nbviewer.org.</b></div><div class=\"sk-container\" hidden><div class=\"sk-item\"><div class=\"sk-estimator sk-toggleable\"><input class=\"sk-toggleable__control sk-hidden--visually\" id=\"sk-estimator-id-1\" type=\"checkbox\" checked><label for=\"sk-estimator-id-1\" class=\"sk-toggleable__label sk-toggleable__label-arrow\">LogisticRegression</label><div class=\"sk-toggleable__content\"><pre>LogisticRegression()</pre></div></div></div></div></div>"
            ]
          },
          "metadata": {},
          "execution_count": 56
        }
      ]
    },
    {
      "cell_type": "code",
      "source": [
        "y_pred = logreg.predict(X_test)\n",
        "print('Accuracy of logistic regression classifier on test set: {:.2f}'.format(logreg.score(X_test, y_test)))\n"
      ],
      "metadata": {
        "colab": {
          "base_uri": "https://localhost:8080/"
        },
        "id": "aG7nb-cgFyLl",
        "outputId": "bbfd7176-72e2-40d2-c454-472e0e14ee9f"
      },
      "execution_count": 57,
      "outputs": [
        {
          "output_type": "stream",
          "name": "stdout",
          "text": [
            "Accuracy of logistic regression classifier on test set: 0.87\n"
          ]
        }
      ]
    },
    {
      "cell_type": "markdown",
      "source": [
        "Confusion Matrix"
      ],
      "metadata": {
        "id": "nYnkdLgUGFFw"
      }
    },
    {
      "cell_type": "code",
      "source": [
        "from sklearn.metrics import confusion_matrix\n",
        "confusion_matrix = confusion_matrix(y_test, y_pred)\n",
        "print(confusion_matrix)"
      ],
      "metadata": {
        "colab": {
          "base_uri": "https://localhost:8080/"
        },
        "id": "2et0RofUF8FO",
        "outputId": "fce2df8d-c320-46dc-c96e-2057936f7f97"
      },
      "execution_count": 58,
      "outputs": [
        {
          "output_type": "stream",
          "name": "stdout",
          "text": [
            "[[4448  424]\n",
            " [ 891 4075]]\n"
          ]
        }
      ]
    },
    {
      "cell_type": "code",
      "source": [
        "from sklearn.metrics import classification_report\n",
        "print(classification_report(y_test, y_pred))\n"
      ],
      "metadata": {
        "colab": {
          "base_uri": "https://localhost:8080/"
        },
        "id": "SDzWwaeeGIOi",
        "outputId": "5ee85bb0-f463-42cb-edfe-6c215a1bc8a2"
      },
      "execution_count": 60,
      "outputs": [
        {
          "output_type": "stream",
          "name": "stdout",
          "text": [
            "              precision    recall  f1-score   support\n",
            "\n",
            "         0.0       0.83      0.91      0.87      4872\n",
            "         1.0       0.91      0.82      0.86      4966\n",
            "\n",
            "    accuracy                           0.87      9838\n",
            "   macro avg       0.87      0.87      0.87      9838\n",
            "weighted avg       0.87      0.87      0.87      9838\n",
            "\n"
          ]
        }
      ]
    },
    {
      "cell_type": "code",
      "source": [
        "from sklearn.metrics import roc_auc_score\n",
        "from sklearn.metrics import roc_curve\n",
        "logit_roc_auc = roc_auc_score(y_test, logreg.predict(X_test))\n",
        "fpr, tpr, thresholds = roc_curve(y_test, logreg.predict_proba(X_test)[:,1])\n",
        "plt.figure()\n",
        "plt.plot(fpr, tpr, label='Logistic Regression (area = %0.2f)' % logit_roc_auc)\n",
        "plt.plot([0, 1], [0, 1],'r--')\n",
        "plt.xlim([0.0, 1.0])\n",
        "plt.ylim([0.0, 1.05])\n",
        "plt.xlabel('False Positive Rate')\n",
        "plt.ylabel('True Positive Rate')\n",
        "plt.title('Receiver operating characteristic')\n",
        "plt.legend(loc=\"lower right\")\n",
        "plt.savefig('Log_ROC')\n",
        "plt.show()\n"
      ],
      "metadata": {
        "colab": {
          "base_uri": "https://localhost:8080/",
          "height": 480
        },
        "id": "N-rMYfilGP9V",
        "outputId": "0b8d483b-e5bc-4763-e212-4841cf0ff85e"
      },
      "execution_count": 61,
      "outputs": [
        {
          "output_type": "display_data",
          "data": {
            "text/plain": [
              "<Figure size 640x480 with 1 Axes>"
            ],
            "image/png": "[encoded data removed]"
          },
          "metadata": {}
        }
      ]
    },
    {
      "cell_type": "code",
      "source": [
        "!pip install kaggle"
      ],
      "metadata": {
        "colab": {
          "base_uri": "https://localhost:8080/"
        },
        "id": "kobknSInG8oB",
        "outputId": "f645b7b9-1a9c-4920-ced0-5bdaaa47638b"
      },
      "execution_count": 63,
      "outputs": [
        {
          "output_type": "stream",
          "name": "stdout",
          "text": [
            "Looking in indexes: https://pypi.org/simple, https://us-python.pkg.dev/colab-wheels/public/simple/\n",
            "Requirement already satisfied: kaggle in /usr/local/lib/python3.10/dist-packages (1.5.13)\n",
            "Requirement already satisfied: six>=1.10 in /usr/local/lib/python3.10/dist-packages (from kaggle) (1.16.0)\n",
            "Requirement already satisfied: certifi in /usr/local/lib/python3.10/dist-packages (from kaggle) (2022.12.7)\n",
            "Requirement already satisfied: python-dateutil in /usr/local/lib/python3.10/dist-packages (from kaggle) (2.8.2)\n",
            "Requirement already satisfied: requests in /usr/local/lib/python3.10/dist-packages (from kaggle) (2.27.1)\n",
            "Requirement already satisfied: tqdm in /usr/local/lib/python3.10/dist-packages (from kaggle) (4.65.0)\n",
            "Requirement already satisfied: python-slugify in /usr/local/lib/python3.10/dist-packages (from kaggle) (8.0.1)\n",
            "Requirement already satisfied: urllib3 in /usr/local/lib/python3.10/dist-packages (from kaggle) (1.26.15)\n",
            "Requirement already satisfied: text-unidecode>=1.3 in /usr/local/lib/python3.10/dist-packages (from python-slugify->kaggle) (1.3)\n",
            "Requirement already satisfied: charset-normalizer~=2.0.0 in /usr/local/lib/python3.10/dist-packages (from requests->kaggle) (2.0.12)\n",
            "Requirement already satisfied: idna<4,>=2.5 in /usr/local/lib/python3.10/dist-packages (from requests->kaggle) (3.4)\n"
          ]
        }
      ]
    },
    {
      "cell_type": "code",
      "source": [],
      "metadata": {
        "id": "APFwcGRtRACu"
      },
      "execution_count": null,
      "outputs": []
    }
  ]
}